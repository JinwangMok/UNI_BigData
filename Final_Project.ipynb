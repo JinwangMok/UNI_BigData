{
  "nbformat": 4,
  "nbformat_minor": 0,
  "metadata": {
    "colab": {
      "name": "Final_Project.ipynb",
      "provenance": [],
      "collapsed_sections": [],
      "authorship_tag": "ABX9TyMcIB2en7MOqE1LwLoDP3Fu",
      "include_colab_link": true
    },
    "kernelspec": {
      "name": "python3",
      "display_name": "Python 3"
    },
    "language_info": {
      "name": "python"
    }
  },
  "cells": [
    {
      "cell_type": "markdown",
      "metadata": {
        "id": "view-in-github",
        "colab_type": "text"
      },
      "source": [
        "<a href=\"https://colab.research.google.com/github/JinwangMok/UNI_BigData/blob/main/Final_Project.ipynb\" target=\"_parent\"><img src=\"https://colab.research.google.com/assets/colab-badge.svg\" alt=\"Open In Colab\"/></a>"
      ]
    },
    {
      "cell_type": "markdown",
      "source": [
        "# 🚀 학기말 프로젝트\n",
        "\n",
        "## 🎯 목표\n",
        "> ```\n",
        "> 서울에 사는 평범한 50대 직장인 나창업씨는 코로나가 끝나감에 따라 다니던 회사를 그만두고 오랜 꿈이었던 요식업에 뛰어들고자 한다.\n",
        "> 그는 양식음식점을 개점하고자 하며 20대와 30대 연령층의 유동량이 많은 상권을 요구한다.\n",
        "> 이에 20대와 30대 연령층의 유동량이 많은 2개의 상권에 대해 비교 및 분석하고 보고자하고자 한다.\n",
        "> ```\n",
        "> \n",
        "> 💽 사용 데이터\n",
        ">>- [서울시 우리마을가게 상권분석서비스(상권-추정매출)](https://data.seoul.go.kr/dataList/OA-15572/S/1/datasetView.do)\n",
        ">>\n",
        ">>- [서울시 우리마을가게 상권분석서비스(상권-생활인구)](https://data.seoul.go.kr/dataList/OA-15568/S/1/datasetView.do)\n",
        ">>\n",
        ">>- [서울시 우리마을가게 상권분석서비스(상권-점포)](http://data.seoul.go.kr/dataList/OA-15577/S/1/datasetView.do)\n"
      ],
      "metadata": {
        "id": "WfJ_pRFuFXWY"
      }
    },
    {
      "cell_type": "markdown",
      "source": [
        "## 0. 💼 시작하기 전에...\n",
        "\n",
        "먼저 필요한 라이브러리와 모듈을 불러오고, 구글 드라이브를 마운트하는 등 데이터 분석 및 시각화에 필요한 작업을 진행해줍니다."
      ],
      "metadata": {
        "id": "VfvsSXBz8HRV"
      }
    },
    {
      "cell_type": "markdown",
      "source": [
        "### 라이브러리 불러오기"
      ],
      "metadata": {
        "id": "aVJbvb289FH7"
      }
    },
    {
      "cell_type": "code",
      "source": [
        "import pandas as pd\n",
        "import numpy as np\n",
        "import matplotlib.pyplot as plt\n",
        "import seaborn as sns\n",
        "import requests\n",
        "import pathlib\n",
        "from tqdm import tqdm\n",
        "import math"
      ],
      "metadata": {
        "id": "iJB7GOC08HjC"
      },
      "execution_count": 1,
      "outputs": []
    },
    {
      "cell_type": "markdown",
      "source": [
        "### 한글 폰트 설치 및 적용\n",
        "\n",
        "> 아래의 셀을 실행하여 폰트 설치 후 런타임 다시 시작"
      ],
      "metadata": {
        "id": "UISbGE2X9HLf"
      }
    },
    {
      "cell_type": "code",
      "source": [
        "# Install font for korean lang\n",
        "# You must Restart Kernel after run this cell\n",
        "!sudo apt-get install -y fonts-nanum\n",
        "!sudo fc-cache -fv\n",
        "!rm ~/.cache/matplotlib -rf"
      ],
      "metadata": {
        "colab": {
          "base_uri": "https://localhost:8080/"
        },
        "id": "vYRU9mg28CIP",
        "outputId": "869912dd-24a3-425d-cba1-c29f1bd10408"
      },
      "execution_count": 2,
      "outputs": [
        {
          "output_type": "stream",
          "name": "stdout",
          "text": [
            "Reading package lists... Done\n",
            "Building dependency tree       \n",
            "Reading state information... Done\n",
            "fonts-nanum is already the newest version (20170925-1).\n",
            "The following package was automatically installed and is no longer required:\n",
            "  libnvidia-common-460\n",
            "Use 'sudo apt autoremove' to remove it.\n",
            "0 upgraded, 0 newly installed, 0 to remove and 45 not upgraded.\n",
            "/usr/share/fonts: caching, new cache contents: 0 fonts, 1 dirs\n",
            "/usr/share/fonts/truetype: caching, new cache contents: 0 fonts, 3 dirs\n",
            "/usr/share/fonts/truetype/humor-sans: caching, new cache contents: 1 fonts, 0 dirs\n",
            "/usr/share/fonts/truetype/liberation: caching, new cache contents: 16 fonts, 0 dirs\n",
            "/usr/share/fonts/truetype/nanum: caching, new cache contents: 10 fonts, 0 dirs\n",
            "/usr/local/share/fonts: caching, new cache contents: 0 fonts, 0 dirs\n",
            "/root/.local/share/fonts: skipping, no such directory\n",
            "/root/.fonts: skipping, no such directory\n",
            "/var/cache/fontconfig: cleaning cache directory\n",
            "/root/.cache/fontconfig: not cleaning non-existent cache directory\n",
            "/root/.fontconfig: not cleaning non-existent cache directory\n",
            "fc-cache: succeeded\n"
          ]
        }
      ]
    },
    {
      "cell_type": "code",
      "source": [
        "# Set default style for plt and set font\n",
        "plt.style.use('seaborn-white')\n",
        "\n",
        "plt.rc('font', family='NanumBarunGothic')"
      ],
      "metadata": {
        "id": "1FrBSNAp8wzC"
      },
      "execution_count": 3,
      "outputs": []
    },
    {
      "cell_type": "markdown",
      "source": [
        "### \bGoogle drive 마운트"
      ],
      "metadata": {
        "id": "3ME1l--Z9YP4"
      }
    },
    {
      "cell_type": "code",
      "source": [
        "from google.colab import drive\n",
        "drive.mount('/content/gdrive')"
      ],
      "metadata": {
        "colab": {
          "base_uri": "https://localhost:8080/"
        },
        "id": "Ccvx_7-u8iXE",
        "outputId": "d6098e02-0b16-4d0e-8310-13ef3f6126d9"
      },
      "execution_count": 4,
      "outputs": [
        {
          "output_type": "stream",
          "name": "stdout",
          "text": [
            "Drive already mounted at /content/gdrive; to attempt to forcibly remount, call drive.mount(\"/content/gdrive\", force_remount=True).\n"
          ]
        }
      ]
    },
    {
      "cell_type": "markdown",
      "source": [
        "### 고정 변수 선언"
      ],
      "metadata": {
        "id": "3baJFWfE9tmT"
      }
    },
    {
      "cell_type": "code",
      "source": [
        "PATH = \"/content/gdrive/MyDrive/BU/3-2/빅데이터/project/\"\n",
        "SERVICE_KEY = \"6c56535547776c7336316c6c6f7142\""
      ],
      "metadata": {
        "id": "mw4ViEF3OxeM"
      },
      "execution_count": 5,
      "outputs": []
    },
    {
      "cell_type": "markdown",
      "source": [
        "### 데이터 불러오기\n",
        "\n",
        "> `sales_df` : 서울시 상권 매출 데이터 원본\n",
        ">\n",
        "> `population_df` : 서울시 상권 생활인구 데이터 원본"
      ],
      "metadata": {
        "id": "Mvs8E_uc8_Tf"
      }
    },
    {
      "cell_type": "code",
      "source": [
        "_path = list(pathlib.Path(PATH+'상권매출').rglob('*.csv'))\n",
        "sales_df = pd.read_csv(_path[0], encoding='cp949')\n",
        "\n",
        "for p in tqdm(_path[1:], desc=\"csv파일을 읽어오는 중입니다...\"):\n",
        "    sales_df = pd.concat([sales_df, pd.read_csv(p, encoding='cp949')])\n",
        "\n",
        "sales_df = sales_df.sort_values(by=['기준_년_코드', '기준_분기_코드', '상권_코드'])\n",
        "sales_df = sales_df.reset_index(drop=True)"
      ],
      "metadata": {
        "colab": {
          "base_uri": "https://localhost:8080/"
        },
        "id": "Qw4XhvbG9n-J",
        "outputId": "79482ae4-78d3-4a40-f702-4ae88dd6a28a"
      },
      "execution_count": 6,
      "outputs": [
        {
          "output_type": "stream",
          "name": "stderr",
          "text": [
            "csv파일을 읽어오는 중입니다...: 100%|██████████| 4/4 [00:11<00:00,  2.79s/it]\n"
          ]
        }
      ]
    },
    {
      "cell_type": "code",
      "source": [
        "sales_df.head(2)"
      ],
      "metadata": {
        "colab": {
          "base_uri": "https://localhost:8080/",
          "height": 238
        },
        "id": "LtjIgdyN9_dx",
        "outputId": "734b17ad-fe37-4936-f025-2b80a35cab8a"
      },
      "execution_count": 7,
      "outputs": [
        {
          "output_type": "execute_result",
          "data": {
            "text/plain": [
              "   기준_년_코드  기준_분기_코드 상권_구분_코드 상권_구분_코드_명    상권_코드   상권_코드_명 서비스_업종_코드  \\\n",
              "0     2017         1        U       관광특구  1001491  이태원 관광특구  CS100001   \n",
              "1     2017         1        U       관광특구  1001491  이태원 관광특구  CS100002   \n",
              "\n",
              "  서비스_업종_코드_명    분기당_매출_금액  분기당_매출_건수  ...  시간대_건수~24_매출_건수  남성_매출_건수  \\\n",
              "0       한식음식점  10929390463     331140  ...            77882    168440   \n",
              "1       중식음식점   2524192944      97748  ...             9794     44246   \n",
              "\n",
              "   여성_매출_건수  연령대_10_매출_건수  연령대_20_매출_건수  연령대_30_매출_건수  연령대_40_매출_건수  \\\n",
              "0    129834          2321        142199         92141         32126   \n",
              "1     45338           873         37987         27577         12469   \n",
              "\n",
              "   연령대_50_매출_건수  연령대_60_이상_매출_건수  점포수  \n",
              "0         20590             8914  108  \n",
              "1          7735             2952   17  \n",
              "\n",
              "[2 rows x 80 columns]"
            ],
            "text/html": [
              "\n",
              "  <div id=\"df-faf88da4-c9f6-449e-9504-ea657fb64d8b\">\n",
              "    <div class=\"colab-df-container\">\n",
              "      <div>\n",
              "<style scoped>\n",
              "    .dataframe tbody tr th:only-of-type {\n",
              "        vertical-align: middle;\n",
              "    }\n",
              "\n",
              "    .dataframe tbody tr th {\n",
              "        vertical-align: top;\n",
              "    }\n",
              "\n",
              "    .dataframe thead th {\n",
              "        text-align: right;\n",
              "    }\n",
              "</style>\n",
              "<table border=\"1\" class=\"dataframe\">\n",
              "  <thead>\n",
              "    <tr style=\"text-align: right;\">\n",
              "      <th></th>\n",
              "      <th>기준_년_코드</th>\n",
              "      <th>기준_분기_코드</th>\n",
              "      <th>상권_구분_코드</th>\n",
              "      <th>상권_구분_코드_명</th>\n",
              "      <th>상권_코드</th>\n",
              "      <th>상권_코드_명</th>\n",
              "      <th>서비스_업종_코드</th>\n",
              "      <th>서비스_업종_코드_명</th>\n",
              "      <th>분기당_매출_금액</th>\n",
              "      <th>분기당_매출_건수</th>\n",
              "      <th>...</th>\n",
              "      <th>시간대_건수~24_매출_건수</th>\n",
              "      <th>남성_매출_건수</th>\n",
              "      <th>여성_매출_건수</th>\n",
              "      <th>연령대_10_매출_건수</th>\n",
              "      <th>연령대_20_매출_건수</th>\n",
              "      <th>연령대_30_매출_건수</th>\n",
              "      <th>연령대_40_매출_건수</th>\n",
              "      <th>연령대_50_매출_건수</th>\n",
              "      <th>연령대_60_이상_매출_건수</th>\n",
              "      <th>점포수</th>\n",
              "    </tr>\n",
              "  </thead>\n",
              "  <tbody>\n",
              "    <tr>\n",
              "      <th>0</th>\n",
              "      <td>2017</td>\n",
              "      <td>1</td>\n",
              "      <td>U</td>\n",
              "      <td>관광특구</td>\n",
              "      <td>1001491</td>\n",
              "      <td>이태원 관광특구</td>\n",
              "      <td>CS100001</td>\n",
              "      <td>한식음식점</td>\n",
              "      <td>10929390463</td>\n",
              "      <td>331140</td>\n",
              "      <td>...</td>\n",
              "      <td>77882</td>\n",
              "      <td>168440</td>\n",
              "      <td>129834</td>\n",
              "      <td>2321</td>\n",
              "      <td>142199</td>\n",
              "      <td>92141</td>\n",
              "      <td>32126</td>\n",
              "      <td>20590</td>\n",
              "      <td>8914</td>\n",
              "      <td>108</td>\n",
              "    </tr>\n",
              "    <tr>\n",
              "      <th>1</th>\n",
              "      <td>2017</td>\n",
              "      <td>1</td>\n",
              "      <td>U</td>\n",
              "      <td>관광특구</td>\n",
              "      <td>1001491</td>\n",
              "      <td>이태원 관광특구</td>\n",
              "      <td>CS100002</td>\n",
              "      <td>중식음식점</td>\n",
              "      <td>2524192944</td>\n",
              "      <td>97748</td>\n",
              "      <td>...</td>\n",
              "      <td>9794</td>\n",
              "      <td>44246</td>\n",
              "      <td>45338</td>\n",
              "      <td>873</td>\n",
              "      <td>37987</td>\n",
              "      <td>27577</td>\n",
              "      <td>12469</td>\n",
              "      <td>7735</td>\n",
              "      <td>2952</td>\n",
              "      <td>17</td>\n",
              "    </tr>\n",
              "  </tbody>\n",
              "</table>\n",
              "<p>2 rows × 80 columns</p>\n",
              "</div>\n",
              "      <button class=\"colab-df-convert\" onclick=\"convertToInteractive('df-faf88da4-c9f6-449e-9504-ea657fb64d8b')\"\n",
              "              title=\"Convert this dataframe to an interactive table.\"\n",
              "              style=\"display:none;\">\n",
              "        \n",
              "  <svg xmlns=\"http://www.w3.org/2000/svg\" height=\"24px\"viewBox=\"0 0 24 24\"\n",
              "       width=\"24px\">\n",
              "    <path d=\"M0 0h24v24H0V0z\" fill=\"none\"/>\n",
              "    <path d=\"M18.56 5.44l.94 2.06.94-2.06 2.06-.94-2.06-.94-.94-2.06-.94 2.06-2.06.94zm-11 1L8.5 8.5l.94-2.06 2.06-.94-2.06-.94L8.5 2.5l-.94 2.06-2.06.94zm10 10l.94 2.06.94-2.06 2.06-.94-2.06-.94-.94-2.06-.94 2.06-2.06.94z\"/><path d=\"M17.41 7.96l-1.37-1.37c-.4-.4-.92-.59-1.43-.59-.52 0-1.04.2-1.43.59L10.3 9.45l-7.72 7.72c-.78.78-.78 2.05 0 2.83L4 21.41c.39.39.9.59 1.41.59.51 0 1.02-.2 1.41-.59l7.78-7.78 2.81-2.81c.8-.78.8-2.07 0-2.86zM5.41 20L4 18.59l7.72-7.72 1.47 1.35L5.41 20z\"/>\n",
              "  </svg>\n",
              "      </button>\n",
              "      \n",
              "  <style>\n",
              "    .colab-df-container {\n",
              "      display:flex;\n",
              "      flex-wrap:wrap;\n",
              "      gap: 12px;\n",
              "    }\n",
              "\n",
              "    .colab-df-convert {\n",
              "      background-color: #E8F0FE;\n",
              "      border: none;\n",
              "      border-radius: 50%;\n",
              "      cursor: pointer;\n",
              "      display: none;\n",
              "      fill: #1967D2;\n",
              "      height: 32px;\n",
              "      padding: 0 0 0 0;\n",
              "      width: 32px;\n",
              "    }\n",
              "\n",
              "    .colab-df-convert:hover {\n",
              "      background-color: #E2EBFA;\n",
              "      box-shadow: 0px 1px 2px rgba(60, 64, 67, 0.3), 0px 1px 3px 1px rgba(60, 64, 67, 0.15);\n",
              "      fill: #174EA6;\n",
              "    }\n",
              "\n",
              "    [theme=dark] .colab-df-convert {\n",
              "      background-color: #3B4455;\n",
              "      fill: #D2E3FC;\n",
              "    }\n",
              "\n",
              "    [theme=dark] .colab-df-convert:hover {\n",
              "      background-color: #434B5C;\n",
              "      box-shadow: 0px 1px 3px 1px rgba(0, 0, 0, 0.15);\n",
              "      filter: drop-shadow(0px 1px 2px rgba(0, 0, 0, 0.3));\n",
              "      fill: #FFFFFF;\n",
              "    }\n",
              "  </style>\n",
              "\n",
              "      <script>\n",
              "        const buttonEl =\n",
              "          document.querySelector('#df-faf88da4-c9f6-449e-9504-ea657fb64d8b button.colab-df-convert');\n",
              "        buttonEl.style.display =\n",
              "          google.colab.kernel.accessAllowed ? 'block' : 'none';\n",
              "\n",
              "        async function convertToInteractive(key) {\n",
              "          const element = document.querySelector('#df-faf88da4-c9f6-449e-9504-ea657fb64d8b');\n",
              "          const dataTable =\n",
              "            await google.colab.kernel.invokeFunction('convertToInteractive',\n",
              "                                                     [key], {});\n",
              "          if (!dataTable) return;\n",
              "\n",
              "          const docLinkHtml = 'Like what you see? Visit the ' +\n",
              "            '<a target=\"_blank\" href=https://colab.research.google.com/notebooks/data_table.ipynb>data table notebook</a>'\n",
              "            + ' to learn more about interactive tables.';\n",
              "          element.innerHTML = '';\n",
              "          dataTable['output_type'] = 'display_data';\n",
              "          await google.colab.output.renderOutput(dataTable, element);\n",
              "          const docLink = document.createElement('div');\n",
              "          docLink.innerHTML = docLinkHtml;\n",
              "          element.appendChild(docLink);\n",
              "        }\n",
              "      </script>\n",
              "    </div>\n",
              "  </div>\n",
              "  "
            ]
          },
          "metadata": {},
          "execution_count": 7
        }
      ]
    },
    {
      "cell_type": "code",
      "source": [
        "population_df = pd.read_csv(PATH+'서울시 우리마을가게 상권분석서비스(상권-생활인구).csv', encoding='cp949')"
      ],
      "metadata": {
        "id": "KcURAj4vZRbi"
      },
      "execution_count": 8,
      "outputs": []
    },
    {
      "cell_type": "code",
      "source": [
        "population_df.head(2)"
      ],
      "metadata": {
        "colab": {
          "base_uri": "https://localhost:8080/",
          "height": 324
        },
        "id": "mS1o4wFna9xv",
        "outputId": "8e0b8f15-85fa-4f9c-9477-1a259c6c482e"
      },
      "execution_count": 9,
      "outputs": [
        {
          "output_type": "execute_result",
          "data": {
            "text/plain": [
              "   기준 년코드  기준_분기_코드 상권_구분_코드  상권_구분_코드_명    상권_코드      상권_코드_명  총_생활인구_수  \\\n",
              "0    2021         4        U        관광특구  1001496  강남 마이스 관광특구    102294   \n",
              "1    2021         4        U        관광특구  1001495      잠실 관광특구   3371333   \n",
              "\n",
              "   남성_생활인구_수  여성_생활인구_수  연령대_10_생활인구_수  ...  여성연령대_60_이상_토요일시간대_3_생활인구_수  \\\n",
              "0      51045      51249           6685  ...                          165   \n",
              "1    1642782    1728551         336818  ...                         6171   \n",
              "\n",
              "   여성연령대_60_이상_토요일시간대_4_생활인구_수  여성연령대_60_이상_토요일시간대_5_생활인구_수  \\\n",
              "0                          162                          146   \n",
              "1                         6438                         7573   \n",
              "\n",
              "   여성연령대_60_이상_토요일시간대_6_생활인구_수  여성연령대_60_이상_일요일시간대_1_생활인구_수  \\\n",
              "0                           44                           65   \n",
              "1                         4084                         6809   \n",
              "\n",
              "   여성연령대_60_이상_일요일시간대_2_생활인구_수  여성연령대_60_이상_일요일시간대_3_생활인구_수  \\\n",
              "0                          106                          136   \n",
              "1                         6814                         5921   \n",
              "\n",
              "   여성연령대_60_이상_일요일시간대_4_생활인구_수  여성연령대_60_이상_일요일시간대_5_생활인구_수  \\\n",
              "0                          143                          122   \n",
              "1                         6162                         7116   \n",
              "\n",
              "   여성연령대_60_이상_일요일시간대_6_생활인구_수  \n",
              "0                           42  \n",
              "1                         4012  \n",
              "\n",
              "[2 rows x 532 columns]"
            ],
            "text/html": [
              "\n",
              "  <div id=\"df-35660382-32f4-4487-8ae2-5d270fac2277\">\n",
              "    <div class=\"colab-df-container\">\n",
              "      <div>\n",
              "<style scoped>\n",
              "    .dataframe tbody tr th:only-of-type {\n",
              "        vertical-align: middle;\n",
              "    }\n",
              "\n",
              "    .dataframe tbody tr th {\n",
              "        vertical-align: top;\n",
              "    }\n",
              "\n",
              "    .dataframe thead th {\n",
              "        text-align: right;\n",
              "    }\n",
              "</style>\n",
              "<table border=\"1\" class=\"dataframe\">\n",
              "  <thead>\n",
              "    <tr style=\"text-align: right;\">\n",
              "      <th></th>\n",
              "      <th>기준 년코드</th>\n",
              "      <th>기준_분기_코드</th>\n",
              "      <th>상권_구분_코드</th>\n",
              "      <th>상권_구분_코드_명</th>\n",
              "      <th>상권_코드</th>\n",
              "      <th>상권_코드_명</th>\n",
              "      <th>총_생활인구_수</th>\n",
              "      <th>남성_생활인구_수</th>\n",
              "      <th>여성_생활인구_수</th>\n",
              "      <th>연령대_10_생활인구_수</th>\n",
              "      <th>...</th>\n",
              "      <th>여성연령대_60_이상_토요일시간대_3_생활인구_수</th>\n",
              "      <th>여성연령대_60_이상_토요일시간대_4_생활인구_수</th>\n",
              "      <th>여성연령대_60_이상_토요일시간대_5_생활인구_수</th>\n",
              "      <th>여성연령대_60_이상_토요일시간대_6_생활인구_수</th>\n",
              "      <th>여성연령대_60_이상_일요일시간대_1_생활인구_수</th>\n",
              "      <th>여성연령대_60_이상_일요일시간대_2_생활인구_수</th>\n",
              "      <th>여성연령대_60_이상_일요일시간대_3_생활인구_수</th>\n",
              "      <th>여성연령대_60_이상_일요일시간대_4_생활인구_수</th>\n",
              "      <th>여성연령대_60_이상_일요일시간대_5_생활인구_수</th>\n",
              "      <th>여성연령대_60_이상_일요일시간대_6_생활인구_수</th>\n",
              "    </tr>\n",
              "  </thead>\n",
              "  <tbody>\n",
              "    <tr>\n",
              "      <th>0</th>\n",
              "      <td>2021</td>\n",
              "      <td>4</td>\n",
              "      <td>U</td>\n",
              "      <td>관광특구</td>\n",
              "      <td>1001496</td>\n",
              "      <td>강남 마이스 관광특구</td>\n",
              "      <td>102294</td>\n",
              "      <td>51045</td>\n",
              "      <td>51249</td>\n",
              "      <td>6685</td>\n",
              "      <td>...</td>\n",
              "      <td>165</td>\n",
              "      <td>162</td>\n",
              "      <td>146</td>\n",
              "      <td>44</td>\n",
              "      <td>65</td>\n",
              "      <td>106</td>\n",
              "      <td>136</td>\n",
              "      <td>143</td>\n",
              "      <td>122</td>\n",
              "      <td>42</td>\n",
              "    </tr>\n",
              "    <tr>\n",
              "      <th>1</th>\n",
              "      <td>2021</td>\n",
              "      <td>4</td>\n",
              "      <td>U</td>\n",
              "      <td>관광특구</td>\n",
              "      <td>1001495</td>\n",
              "      <td>잠실 관광특구</td>\n",
              "      <td>3371333</td>\n",
              "      <td>1642782</td>\n",
              "      <td>1728551</td>\n",
              "      <td>336818</td>\n",
              "      <td>...</td>\n",
              "      <td>6171</td>\n",
              "      <td>6438</td>\n",
              "      <td>7573</td>\n",
              "      <td>4084</td>\n",
              "      <td>6809</td>\n",
              "      <td>6814</td>\n",
              "      <td>5921</td>\n",
              "      <td>6162</td>\n",
              "      <td>7116</td>\n",
              "      <td>4012</td>\n",
              "    </tr>\n",
              "  </tbody>\n",
              "</table>\n",
              "<p>2 rows × 532 columns</p>\n",
              "</div>\n",
              "      <button class=\"colab-df-convert\" onclick=\"convertToInteractive('df-35660382-32f4-4487-8ae2-5d270fac2277')\"\n",
              "              title=\"Convert this dataframe to an interactive table.\"\n",
              "              style=\"display:none;\">\n",
              "        \n",
              "  <svg xmlns=\"http://www.w3.org/2000/svg\" height=\"24px\"viewBox=\"0 0 24 24\"\n",
              "       width=\"24px\">\n",
              "    <path d=\"M0 0h24v24H0V0z\" fill=\"none\"/>\n",
              "    <path d=\"M18.56 5.44l.94 2.06.94-2.06 2.06-.94-2.06-.94-.94-2.06-.94 2.06-2.06.94zm-11 1L8.5 8.5l.94-2.06 2.06-.94-2.06-.94L8.5 2.5l-.94 2.06-2.06.94zm10 10l.94 2.06.94-2.06 2.06-.94-2.06-.94-.94-2.06-.94 2.06-2.06.94z\"/><path d=\"M17.41 7.96l-1.37-1.37c-.4-.4-.92-.59-1.43-.59-.52 0-1.04.2-1.43.59L10.3 9.45l-7.72 7.72c-.78.78-.78 2.05 0 2.83L4 21.41c.39.39.9.59 1.41.59.51 0 1.02-.2 1.41-.59l7.78-7.78 2.81-2.81c.8-.78.8-2.07 0-2.86zM5.41 20L4 18.59l7.72-7.72 1.47 1.35L5.41 20z\"/>\n",
              "  </svg>\n",
              "      </button>\n",
              "      \n",
              "  <style>\n",
              "    .colab-df-container {\n",
              "      display:flex;\n",
              "      flex-wrap:wrap;\n",
              "      gap: 12px;\n",
              "    }\n",
              "\n",
              "    .colab-df-convert {\n",
              "      background-color: #E8F0FE;\n",
              "      border: none;\n",
              "      border-radius: 50%;\n",
              "      cursor: pointer;\n",
              "      display: none;\n",
              "      fill: #1967D2;\n",
              "      height: 32px;\n",
              "      padding: 0 0 0 0;\n",
              "      width: 32px;\n",
              "    }\n",
              "\n",
              "    .colab-df-convert:hover {\n",
              "      background-color: #E2EBFA;\n",
              "      box-shadow: 0px 1px 2px rgba(60, 64, 67, 0.3), 0px 1px 3px 1px rgba(60, 64, 67, 0.15);\n",
              "      fill: #174EA6;\n",
              "    }\n",
              "\n",
              "    [theme=dark] .colab-df-convert {\n",
              "      background-color: #3B4455;\n",
              "      fill: #D2E3FC;\n",
              "    }\n",
              "\n",
              "    [theme=dark] .colab-df-convert:hover {\n",
              "      background-color: #434B5C;\n",
              "      box-shadow: 0px 1px 3px 1px rgba(0, 0, 0, 0.15);\n",
              "      filter: drop-shadow(0px 1px 2px rgba(0, 0, 0, 0.3));\n",
              "      fill: #FFFFFF;\n",
              "    }\n",
              "  </style>\n",
              "\n",
              "      <script>\n",
              "        const buttonEl =\n",
              "          document.querySelector('#df-35660382-32f4-4487-8ae2-5d270fac2277 button.colab-df-convert');\n",
              "        buttonEl.style.display =\n",
              "          google.colab.kernel.accessAllowed ? 'block' : 'none';\n",
              "\n",
              "        async function convertToInteractive(key) {\n",
              "          const element = document.querySelector('#df-35660382-32f4-4487-8ae2-5d270fac2277');\n",
              "          const dataTable =\n",
              "            await google.colab.kernel.invokeFunction('convertToInteractive',\n",
              "                                                     [key], {});\n",
              "          if (!dataTable) return;\n",
              "\n",
              "          const docLinkHtml = 'Like what you see? Visit the ' +\n",
              "            '<a target=\"_blank\" href=https://colab.research.google.com/notebooks/data_table.ipynb>data table notebook</a>'\n",
              "            + ' to learn more about interactive tables.';\n",
              "          element.innerHTML = '';\n",
              "          dataTable['output_type'] = 'display_data';\n",
              "          await google.colab.output.renderOutput(dataTable, element);\n",
              "          const docLink = document.createElement('div');\n",
              "          docLink.innerHTML = docLinkHtml;\n",
              "          element.appendChild(docLink);\n",
              "        }\n",
              "      </script>\n",
              "    </div>\n",
              "  </div>\n",
              "  "
            ]
          },
          "metadata": {},
          "execution_count": 9
        }
      ]
    },
    {
      "cell_type": "markdown",
      "source": [
        "---"
      ],
      "metadata": {
        "id": "vlPmbZ7nnJFk"
      }
    },
    {
      "cell_type": "markdown",
      "source": [
        "## 1. 20대, 30대 유동인구가 많은 상권은 어디일까?\n",
        "\n",
        "> 유동인구를 구하기 위해 `서울시 우리마을가게 상권분석서비스(상권-생활인구).csv` 데이터를 활용해 20대, 30대 생활인구가 가장 많은 상권을 5군데 선정합니다.\n",
        ">\n",
        "> 본 데이터의 `생활인구`는 서울시와 KT가 공공빅데이터와 통신데이터를 이용하여 작성한 서울의 특정지역, 특정시점에 존재하는 인구수를 의미합니다."
      ],
      "metadata": {
        "id": "g01hw-8jmVcX"
      }
    },
    {
      "cell_type": "code",
      "source": [
        "columns_2030 = ['기준 년코드', '기준_분기_코드', '상권_코드_명', '총_생활인구_수', '연령대_20_생활인구_수', '연령대_30_생활인구_수']\n",
        "population_df_2030 = population_df[columns_2030]"
      ],
      "metadata": {
        "id": "LfVCsVdokmcF"
      },
      "execution_count": 10,
      "outputs": []
    },
    {
      "cell_type": "code",
      "source": [
        "population_df_2030.head(3)"
      ],
      "metadata": {
        "colab": {
          "base_uri": "https://localhost:8080/",
          "height": 143
        },
        "id": "yrBgzhO4oaVU",
        "outputId": "b5b23f6c-ec4f-4820-eef0-e565fadcd7ba"
      },
      "execution_count": 11,
      "outputs": [
        {
          "output_type": "execute_result",
          "data": {
            "text/plain": [
              "   기준 년코드  기준_분기_코드      상권_코드_명  총_생활인구_수  연령대_20_생활인구_수  연령대_30_생활인구_수\n",
              "0    2021         4  강남 마이스 관광특구    102294          21900          28948\n",
              "1    2021         4      잠실 관광특구   3371333         754106         804522\n",
              "2    2021         4   종로?청계 관광특구   3868466         651068         723927"
            ],
            "text/html": [
              "\n",
              "  <div id=\"df-8e991e4c-c3fb-42ae-bd52-9397c0a364b0\">\n",
              "    <div class=\"colab-df-container\">\n",
              "      <div>\n",
              "<style scoped>\n",
              "    .dataframe tbody tr th:only-of-type {\n",
              "        vertical-align: middle;\n",
              "    }\n",
              "\n",
              "    .dataframe tbody tr th {\n",
              "        vertical-align: top;\n",
              "    }\n",
              "\n",
              "    .dataframe thead th {\n",
              "        text-align: right;\n",
              "    }\n",
              "</style>\n",
              "<table border=\"1\" class=\"dataframe\">\n",
              "  <thead>\n",
              "    <tr style=\"text-align: right;\">\n",
              "      <th></th>\n",
              "      <th>기준 년코드</th>\n",
              "      <th>기준_분기_코드</th>\n",
              "      <th>상권_코드_명</th>\n",
              "      <th>총_생활인구_수</th>\n",
              "      <th>연령대_20_생활인구_수</th>\n",
              "      <th>연령대_30_생활인구_수</th>\n",
              "    </tr>\n",
              "  </thead>\n",
              "  <tbody>\n",
              "    <tr>\n",
              "      <th>0</th>\n",
              "      <td>2021</td>\n",
              "      <td>4</td>\n",
              "      <td>강남 마이스 관광특구</td>\n",
              "      <td>102294</td>\n",
              "      <td>21900</td>\n",
              "      <td>28948</td>\n",
              "    </tr>\n",
              "    <tr>\n",
              "      <th>1</th>\n",
              "      <td>2021</td>\n",
              "      <td>4</td>\n",
              "      <td>잠실 관광특구</td>\n",
              "      <td>3371333</td>\n",
              "      <td>754106</td>\n",
              "      <td>804522</td>\n",
              "    </tr>\n",
              "    <tr>\n",
              "      <th>2</th>\n",
              "      <td>2021</td>\n",
              "      <td>4</td>\n",
              "      <td>종로?청계 관광특구</td>\n",
              "      <td>3868466</td>\n",
              "      <td>651068</td>\n",
              "      <td>723927</td>\n",
              "    </tr>\n",
              "  </tbody>\n",
              "</table>\n",
              "</div>\n",
              "      <button class=\"colab-df-convert\" onclick=\"convertToInteractive('df-8e991e4c-c3fb-42ae-bd52-9397c0a364b0')\"\n",
              "              title=\"Convert this dataframe to an interactive table.\"\n",
              "              style=\"display:none;\">\n",
              "        \n",
              "  <svg xmlns=\"http://www.w3.org/2000/svg\" height=\"24px\"viewBox=\"0 0 24 24\"\n",
              "       width=\"24px\">\n",
              "    <path d=\"M0 0h24v24H0V0z\" fill=\"none\"/>\n",
              "    <path d=\"M18.56 5.44l.94 2.06.94-2.06 2.06-.94-2.06-.94-.94-2.06-.94 2.06-2.06.94zm-11 1L8.5 8.5l.94-2.06 2.06-.94-2.06-.94L8.5 2.5l-.94 2.06-2.06.94zm10 10l.94 2.06.94-2.06 2.06-.94-2.06-.94-.94-2.06-.94 2.06-2.06.94z\"/><path d=\"M17.41 7.96l-1.37-1.37c-.4-.4-.92-.59-1.43-.59-.52 0-1.04.2-1.43.59L10.3 9.45l-7.72 7.72c-.78.78-.78 2.05 0 2.83L4 21.41c.39.39.9.59 1.41.59.51 0 1.02-.2 1.41-.59l7.78-7.78 2.81-2.81c.8-.78.8-2.07 0-2.86zM5.41 20L4 18.59l7.72-7.72 1.47 1.35L5.41 20z\"/>\n",
              "  </svg>\n",
              "      </button>\n",
              "      \n",
              "  <style>\n",
              "    .colab-df-container {\n",
              "      display:flex;\n",
              "      flex-wrap:wrap;\n",
              "      gap: 12px;\n",
              "    }\n",
              "\n",
              "    .colab-df-convert {\n",
              "      background-color: #E8F0FE;\n",
              "      border: none;\n",
              "      border-radius: 50%;\n",
              "      cursor: pointer;\n",
              "      display: none;\n",
              "      fill: #1967D2;\n",
              "      height: 32px;\n",
              "      padding: 0 0 0 0;\n",
              "      width: 32px;\n",
              "    }\n",
              "\n",
              "    .colab-df-convert:hover {\n",
              "      background-color: #E2EBFA;\n",
              "      box-shadow: 0px 1px 2px rgba(60, 64, 67, 0.3), 0px 1px 3px 1px rgba(60, 64, 67, 0.15);\n",
              "      fill: #174EA6;\n",
              "    }\n",
              "\n",
              "    [theme=dark] .colab-df-convert {\n",
              "      background-color: #3B4455;\n",
              "      fill: #D2E3FC;\n",
              "    }\n",
              "\n",
              "    [theme=dark] .colab-df-convert:hover {\n",
              "      background-color: #434B5C;\n",
              "      box-shadow: 0px 1px 3px 1px rgba(0, 0, 0, 0.15);\n",
              "      filter: drop-shadow(0px 1px 2px rgba(0, 0, 0, 0.3));\n",
              "      fill: #FFFFFF;\n",
              "    }\n",
              "  </style>\n",
              "\n",
              "      <script>\n",
              "        const buttonEl =\n",
              "          document.querySelector('#df-8e991e4c-c3fb-42ae-bd52-9397c0a364b0 button.colab-df-convert');\n",
              "        buttonEl.style.display =\n",
              "          google.colab.kernel.accessAllowed ? 'block' : 'none';\n",
              "\n",
              "        async function convertToInteractive(key) {\n",
              "          const element = document.querySelector('#df-8e991e4c-c3fb-42ae-bd52-9397c0a364b0');\n",
              "          const dataTable =\n",
              "            await google.colab.kernel.invokeFunction('convertToInteractive',\n",
              "                                                     [key], {});\n",
              "          if (!dataTable) return;\n",
              "\n",
              "          const docLinkHtml = 'Like what you see? Visit the ' +\n",
              "            '<a target=\"_blank\" href=https://colab.research.google.com/notebooks/data_table.ipynb>data table notebook</a>'\n",
              "            + ' to learn more about interactive tables.';\n",
              "          element.innerHTML = '';\n",
              "          dataTable['output_type'] = 'display_data';\n",
              "          await google.colab.output.renderOutput(dataTable, element);\n",
              "          const docLink = document.createElement('div');\n",
              "          docLink.innerHTML = docLinkHtml;\n",
              "          element.appendChild(docLink);\n",
              "        }\n",
              "      </script>\n",
              "    </div>\n",
              "  </div>\n",
              "  "
            ]
          },
          "metadata": {},
          "execution_count": 11
        }
      ]
    },
    {
      "cell_type": "markdown",
      "source": [
        "> 본 데이터의 하나의 행(row, record)은 `특정 년도`의 `특정 분기`의 `특정 상권`의 데이터를 의미합니다.\n",
        ">\n",
        "> 따라서 아래와 같이 동일한 상권 코드명으로 검색하면 해당 상권의 기간 내의 생활 인구 수가 검색됩니다."
      ],
      "metadata": {
        "id": "NYwmGdh-oeJE"
      }
    },
    {
      "cell_type": "code",
      "source": [
        "population_df_2030[population_df_2030['상권_코드_명']=='잠실 관광특구']"
      ],
      "metadata": {
        "colab": {
          "base_uri": "https://localhost:8080/",
          "height": 677
        },
        "id": "iGoucPxzo1sf",
        "outputId": "acb8cecf-0412-4be5-f506-e0c235354ad9"
      },
      "execution_count": 12,
      "outputs": [
        {
          "output_type": "execute_result",
          "data": {
            "text/plain": [
              "       기준 년코드  기준_분기_코드  상권_코드_명  총_생활인구_수  연령대_20_생활인구_수  연령대_30_생활인구_수\n",
              "1        2021         4  잠실 관광특구   3371333         754106         804522\n",
              "1669     2021         3  잠실 관광특구   3029714         669658         728719\n",
              "3337     2021         2  잠실 관광특구   2998695         680201         724138\n",
              "5005     2021         1  잠실 관광특구   2941031         648879         706733\n",
              "6673     2020         4  잠실 관광특구   2956754         662136         712862\n",
              "8341     2020         3  잠실 관광특구   2998786         688346         710127\n",
              "10010    2020         2  잠실 관광특구   3026454         681334         701941\n",
              "11678    2020         1  잠실 관광특구   3066519         681379         687277\n",
              "13347    2019         4  잠실 관광특구   3225556         697329         715276\n",
              "15016    2019         3  잠실 관광특구   3180318         697516         698153\n",
              "16685    2019         2  잠실 관광특구   3251819         681403         711544\n",
              "18354    2019         1  잠실 관광특구   3358636         675743         718900\n",
              "20023    2018         4  잠실 관광특구   3443926         685825         745928\n",
              "21692    2018         3  잠실 관광특구   3397302         703299         730030\n",
              "23360    2018         2  잠실 관광특구   3333776         679030         727662\n",
              "25028    2018         1  잠실 관광특구   3275664         660276         698777\n",
              "26696    2017         4  잠실 관광특구   3239597         643982         693306\n",
              "28364    2017         3  잠실 관광특구   3152474         641919         680049\n",
              "30032    2017         2  잠실 관광특구   3137123         631841         679594\n",
              "31700    2017         1  잠실 관광특구   3189116         629601         686191"
            ],
            "text/html": [
              "\n",
              "  <div id=\"df-1d2d0821-9a62-440e-9b49-f1d827f27a98\">\n",
              "    <div class=\"colab-df-container\">\n",
              "      <div>\n",
              "<style scoped>\n",
              "    .dataframe tbody tr th:only-of-type {\n",
              "        vertical-align: middle;\n",
              "    }\n",
              "\n",
              "    .dataframe tbody tr th {\n",
              "        vertical-align: top;\n",
              "    }\n",
              "\n",
              "    .dataframe thead th {\n",
              "        text-align: right;\n",
              "    }\n",
              "</style>\n",
              "<table border=\"1\" class=\"dataframe\">\n",
              "  <thead>\n",
              "    <tr style=\"text-align: right;\">\n",
              "      <th></th>\n",
              "      <th>기준 년코드</th>\n",
              "      <th>기준_분기_코드</th>\n",
              "      <th>상권_코드_명</th>\n",
              "      <th>총_생활인구_수</th>\n",
              "      <th>연령대_20_생활인구_수</th>\n",
              "      <th>연령대_30_생활인구_수</th>\n",
              "    </tr>\n",
              "  </thead>\n",
              "  <tbody>\n",
              "    <tr>\n",
              "      <th>1</th>\n",
              "      <td>2021</td>\n",
              "      <td>4</td>\n",
              "      <td>잠실 관광특구</td>\n",
              "      <td>3371333</td>\n",
              "      <td>754106</td>\n",
              "      <td>804522</td>\n",
              "    </tr>\n",
              "    <tr>\n",
              "      <th>1669</th>\n",
              "      <td>2021</td>\n",
              "      <td>3</td>\n",
              "      <td>잠실 관광특구</td>\n",
              "      <td>3029714</td>\n",
              "      <td>669658</td>\n",
              "      <td>728719</td>\n",
              "    </tr>\n",
              "    <tr>\n",
              "      <th>3337</th>\n",
              "      <td>2021</td>\n",
              "      <td>2</td>\n",
              "      <td>잠실 관광특구</td>\n",
              "      <td>2998695</td>\n",
              "      <td>680201</td>\n",
              "      <td>724138</td>\n",
              "    </tr>\n",
              "    <tr>\n",
              "      <th>5005</th>\n",
              "      <td>2021</td>\n",
              "      <td>1</td>\n",
              "      <td>잠실 관광특구</td>\n",
              "      <td>2941031</td>\n",
              "      <td>648879</td>\n",
              "      <td>706733</td>\n",
              "    </tr>\n",
              "    <tr>\n",
              "      <th>6673</th>\n",
              "      <td>2020</td>\n",
              "      <td>4</td>\n",
              "      <td>잠실 관광특구</td>\n",
              "      <td>2956754</td>\n",
              "      <td>662136</td>\n",
              "      <td>712862</td>\n",
              "    </tr>\n",
              "    <tr>\n",
              "      <th>8341</th>\n",
              "      <td>2020</td>\n",
              "      <td>3</td>\n",
              "      <td>잠실 관광특구</td>\n",
              "      <td>2998786</td>\n",
              "      <td>688346</td>\n",
              "      <td>710127</td>\n",
              "    </tr>\n",
              "    <tr>\n",
              "      <th>10010</th>\n",
              "      <td>2020</td>\n",
              "      <td>2</td>\n",
              "      <td>잠실 관광특구</td>\n",
              "      <td>3026454</td>\n",
              "      <td>681334</td>\n",
              "      <td>701941</td>\n",
              "    </tr>\n",
              "    <tr>\n",
              "      <th>11678</th>\n",
              "      <td>2020</td>\n",
              "      <td>1</td>\n",
              "      <td>잠실 관광특구</td>\n",
              "      <td>3066519</td>\n",
              "      <td>681379</td>\n",
              "      <td>687277</td>\n",
              "    </tr>\n",
              "    <tr>\n",
              "      <th>13347</th>\n",
              "      <td>2019</td>\n",
              "      <td>4</td>\n",
              "      <td>잠실 관광특구</td>\n",
              "      <td>3225556</td>\n",
              "      <td>697329</td>\n",
              "      <td>715276</td>\n",
              "    </tr>\n",
              "    <tr>\n",
              "      <th>15016</th>\n",
              "      <td>2019</td>\n",
              "      <td>3</td>\n",
              "      <td>잠실 관광특구</td>\n",
              "      <td>3180318</td>\n",
              "      <td>697516</td>\n",
              "      <td>698153</td>\n",
              "    </tr>\n",
              "    <tr>\n",
              "      <th>16685</th>\n",
              "      <td>2019</td>\n",
              "      <td>2</td>\n",
              "      <td>잠실 관광특구</td>\n",
              "      <td>3251819</td>\n",
              "      <td>681403</td>\n",
              "      <td>711544</td>\n",
              "    </tr>\n",
              "    <tr>\n",
              "      <th>18354</th>\n",
              "      <td>2019</td>\n",
              "      <td>1</td>\n",
              "      <td>잠실 관광특구</td>\n",
              "      <td>3358636</td>\n",
              "      <td>675743</td>\n",
              "      <td>718900</td>\n",
              "    </tr>\n",
              "    <tr>\n",
              "      <th>20023</th>\n",
              "      <td>2018</td>\n",
              "      <td>4</td>\n",
              "      <td>잠실 관광특구</td>\n",
              "      <td>3443926</td>\n",
              "      <td>685825</td>\n",
              "      <td>745928</td>\n",
              "    </tr>\n",
              "    <tr>\n",
              "      <th>21692</th>\n",
              "      <td>2018</td>\n",
              "      <td>3</td>\n",
              "      <td>잠실 관광특구</td>\n",
              "      <td>3397302</td>\n",
              "      <td>703299</td>\n",
              "      <td>730030</td>\n",
              "    </tr>\n",
              "    <tr>\n",
              "      <th>23360</th>\n",
              "      <td>2018</td>\n",
              "      <td>2</td>\n",
              "      <td>잠실 관광특구</td>\n",
              "      <td>3333776</td>\n",
              "      <td>679030</td>\n",
              "      <td>727662</td>\n",
              "    </tr>\n",
              "    <tr>\n",
              "      <th>25028</th>\n",
              "      <td>2018</td>\n",
              "      <td>1</td>\n",
              "      <td>잠실 관광특구</td>\n",
              "      <td>3275664</td>\n",
              "      <td>660276</td>\n",
              "      <td>698777</td>\n",
              "    </tr>\n",
              "    <tr>\n",
              "      <th>26696</th>\n",
              "      <td>2017</td>\n",
              "      <td>4</td>\n",
              "      <td>잠실 관광특구</td>\n",
              "      <td>3239597</td>\n",
              "      <td>643982</td>\n",
              "      <td>693306</td>\n",
              "    </tr>\n",
              "    <tr>\n",
              "      <th>28364</th>\n",
              "      <td>2017</td>\n",
              "      <td>3</td>\n",
              "      <td>잠실 관광특구</td>\n",
              "      <td>3152474</td>\n",
              "      <td>641919</td>\n",
              "      <td>680049</td>\n",
              "    </tr>\n",
              "    <tr>\n",
              "      <th>30032</th>\n",
              "      <td>2017</td>\n",
              "      <td>2</td>\n",
              "      <td>잠실 관광특구</td>\n",
              "      <td>3137123</td>\n",
              "      <td>631841</td>\n",
              "      <td>679594</td>\n",
              "    </tr>\n",
              "    <tr>\n",
              "      <th>31700</th>\n",
              "      <td>2017</td>\n",
              "      <td>1</td>\n",
              "      <td>잠실 관광특구</td>\n",
              "      <td>3189116</td>\n",
              "      <td>629601</td>\n",
              "      <td>686191</td>\n",
              "    </tr>\n",
              "  </tbody>\n",
              "</table>\n",
              "</div>\n",
              "      <button class=\"colab-df-convert\" onclick=\"convertToInteractive('df-1d2d0821-9a62-440e-9b49-f1d827f27a98')\"\n",
              "              title=\"Convert this dataframe to an interactive table.\"\n",
              "              style=\"display:none;\">\n",
              "        \n",
              "  <svg xmlns=\"http://www.w3.org/2000/svg\" height=\"24px\"viewBox=\"0 0 24 24\"\n",
              "       width=\"24px\">\n",
              "    <path d=\"M0 0h24v24H0V0z\" fill=\"none\"/>\n",
              "    <path d=\"M18.56 5.44l.94 2.06.94-2.06 2.06-.94-2.06-.94-.94-2.06-.94 2.06-2.06.94zm-11 1L8.5 8.5l.94-2.06 2.06-.94-2.06-.94L8.5 2.5l-.94 2.06-2.06.94zm10 10l.94 2.06.94-2.06 2.06-.94-2.06-.94-.94-2.06-.94 2.06-2.06.94z\"/><path d=\"M17.41 7.96l-1.37-1.37c-.4-.4-.92-.59-1.43-.59-.52 0-1.04.2-1.43.59L10.3 9.45l-7.72 7.72c-.78.78-.78 2.05 0 2.83L4 21.41c.39.39.9.59 1.41.59.51 0 1.02-.2 1.41-.59l7.78-7.78 2.81-2.81c.8-.78.8-2.07 0-2.86zM5.41 20L4 18.59l7.72-7.72 1.47 1.35L5.41 20z\"/>\n",
              "  </svg>\n",
              "      </button>\n",
              "      \n",
              "  <style>\n",
              "    .colab-df-container {\n",
              "      display:flex;\n",
              "      flex-wrap:wrap;\n",
              "      gap: 12px;\n",
              "    }\n",
              "\n",
              "    .colab-df-convert {\n",
              "      background-color: #E8F0FE;\n",
              "      border: none;\n",
              "      border-radius: 50%;\n",
              "      cursor: pointer;\n",
              "      display: none;\n",
              "      fill: #1967D2;\n",
              "      height: 32px;\n",
              "      padding: 0 0 0 0;\n",
              "      width: 32px;\n",
              "    }\n",
              "\n",
              "    .colab-df-convert:hover {\n",
              "      background-color: #E2EBFA;\n",
              "      box-shadow: 0px 1px 2px rgba(60, 64, 67, 0.3), 0px 1px 3px 1px rgba(60, 64, 67, 0.15);\n",
              "      fill: #174EA6;\n",
              "    }\n",
              "\n",
              "    [theme=dark] .colab-df-convert {\n",
              "      background-color: #3B4455;\n",
              "      fill: #D2E3FC;\n",
              "    }\n",
              "\n",
              "    [theme=dark] .colab-df-convert:hover {\n",
              "      background-color: #434B5C;\n",
              "      box-shadow: 0px 1px 3px 1px rgba(0, 0, 0, 0.15);\n",
              "      filter: drop-shadow(0px 1px 2px rgba(0, 0, 0, 0.3));\n",
              "      fill: #FFFFFF;\n",
              "    }\n",
              "  </style>\n",
              "\n",
              "      <script>\n",
              "        const buttonEl =\n",
              "          document.querySelector('#df-1d2d0821-9a62-440e-9b49-f1d827f27a98 button.colab-df-convert');\n",
              "        buttonEl.style.display =\n",
              "          google.colab.kernel.accessAllowed ? 'block' : 'none';\n",
              "\n",
              "        async function convertToInteractive(key) {\n",
              "          const element = document.querySelector('#df-1d2d0821-9a62-440e-9b49-f1d827f27a98');\n",
              "          const dataTable =\n",
              "            await google.colab.kernel.invokeFunction('convertToInteractive',\n",
              "                                                     [key], {});\n",
              "          if (!dataTable) return;\n",
              "\n",
              "          const docLinkHtml = 'Like what you see? Visit the ' +\n",
              "            '<a target=\"_blank\" href=https://colab.research.google.com/notebooks/data_table.ipynb>data table notebook</a>'\n",
              "            + ' to learn more about interactive tables.';\n",
              "          element.innerHTML = '';\n",
              "          dataTable['output_type'] = 'display_data';\n",
              "          await google.colab.output.renderOutput(dataTable, element);\n",
              "          const docLink = document.createElement('div');\n",
              "          docLink.innerHTML = docLinkHtml;\n",
              "          element.appendChild(docLink);\n",
              "        }\n",
              "      </script>\n",
              "    </div>\n",
              "  </div>\n",
              "  "
            ]
          },
          "metadata": {},
          "execution_count": 12
        }
      ]
    },
    {
      "cell_type": "markdown",
      "source": [
        "> 따라서, `어떤 상권이 2030 연령대의 생활인구가 가장 많은가?`를 확인하기 위해서 두가지 관점에서 확인해보고자 합니다.\n",
        ">\n",
        ">> 1) 가장 최근 데이터인 2021년도 4분기에 가장 많은 2030 생활 인구 수를 기록한 상권 5곳은 어디인가?\n",
        ">>\n",
        ">> 2) 평균적으로 가장 많은 2030 생활 인구 수를 기록한 상권 5곳은 어디인가?"
      ],
      "metadata": {
        "id": "So5rm0WDpB0j"
      }
    },
    {
      "cell_type": "markdown",
      "source": [
        "### 1) 가장 최근 데이터인 2021년도 4분기에 가장 많은 2030 생활 인구 수를 기록한 상권 5곳은 어디인가?"
      ],
      "metadata": {
        "id": "R3tx79XdphyJ"
      }
    },
    {
      "cell_type": "code",
      "source": [
        "population_df_2030[(population_df_2030['기준 년코드']==2021)&(population_df_2030['기준_분기_코드']==4)].sort_values(by='연령대_20_생활인구_수', ascending=False)[:5]"
      ],
      "metadata": {
        "colab": {
          "base_uri": "https://localhost:8080/",
          "height": 206
        },
        "id": "338qy8_fplL8",
        "outputId": "9e6b78b7-f08a-47c7-e671-1c1a1d75885c"
      },
      "execution_count": 13,
      "outputs": [
        {
          "output_type": "execute_result",
          "data": {
            "text/plain": [
              "     기준 년코드  기준_분기_코드                  상권_코드_명  총_생활인구_수  연령대_20_생활인구_수  \\\n",
              "485    2021         4           신촌역(신촌역 신촌로터리)   4622454        2033243   \n",
              "390    2021         4                      강남역   6080322        1721760   \n",
              "476    2021         4                홍대입구역(홍대)   3446374        1420229   \n",
              "799    2021         4  신림역 5번(신림동주민센터 신림동별빛거리)   3597305        1367095   \n",
              "787    2021         4         구립대학경로당(관악산샘말공원)   4519152        1333559   \n",
              "\n",
              "     연령대_30_생활인구_수  \n",
              "485         786937  \n",
              "390        1570759  \n",
              "476         732618  \n",
              "799         869497  \n",
              "787         991755  "
            ],
            "text/html": [
              "\n",
              "  <div id=\"df-fcbf9aa1-4a5b-4fdb-bdc1-3e57012d4760\">\n",
              "    <div class=\"colab-df-container\">\n",
              "      <div>\n",
              "<style scoped>\n",
              "    .dataframe tbody tr th:only-of-type {\n",
              "        vertical-align: middle;\n",
              "    }\n",
              "\n",
              "    .dataframe tbody tr th {\n",
              "        vertical-align: top;\n",
              "    }\n",
              "\n",
              "    .dataframe thead th {\n",
              "        text-align: right;\n",
              "    }\n",
              "</style>\n",
              "<table border=\"1\" class=\"dataframe\">\n",
              "  <thead>\n",
              "    <tr style=\"text-align: right;\">\n",
              "      <th></th>\n",
              "      <th>기준 년코드</th>\n",
              "      <th>기준_분기_코드</th>\n",
              "      <th>상권_코드_명</th>\n",
              "      <th>총_생활인구_수</th>\n",
              "      <th>연령대_20_생활인구_수</th>\n",
              "      <th>연령대_30_생활인구_수</th>\n",
              "    </tr>\n",
              "  </thead>\n",
              "  <tbody>\n",
              "    <tr>\n",
              "      <th>485</th>\n",
              "      <td>2021</td>\n",
              "      <td>4</td>\n",
              "      <td>신촌역(신촌역 신촌로터리)</td>\n",
              "      <td>4622454</td>\n",
              "      <td>2033243</td>\n",
              "      <td>786937</td>\n",
              "    </tr>\n",
              "    <tr>\n",
              "      <th>390</th>\n",
              "      <td>2021</td>\n",
              "      <td>4</td>\n",
              "      <td>강남역</td>\n",
              "      <td>6080322</td>\n",
              "      <td>1721760</td>\n",
              "      <td>1570759</td>\n",
              "    </tr>\n",
              "    <tr>\n",
              "      <th>476</th>\n",
              "      <td>2021</td>\n",
              "      <td>4</td>\n",
              "      <td>홍대입구역(홍대)</td>\n",
              "      <td>3446374</td>\n",
              "      <td>1420229</td>\n",
              "      <td>732618</td>\n",
              "    </tr>\n",
              "    <tr>\n",
              "      <th>799</th>\n",
              "      <td>2021</td>\n",
              "      <td>4</td>\n",
              "      <td>신림역 5번(신림동주민센터 신림동별빛거리)</td>\n",
              "      <td>3597305</td>\n",
              "      <td>1367095</td>\n",
              "      <td>869497</td>\n",
              "    </tr>\n",
              "    <tr>\n",
              "      <th>787</th>\n",
              "      <td>2021</td>\n",
              "      <td>4</td>\n",
              "      <td>구립대학경로당(관악산샘말공원)</td>\n",
              "      <td>4519152</td>\n",
              "      <td>1333559</td>\n",
              "      <td>991755</td>\n",
              "    </tr>\n",
              "  </tbody>\n",
              "</table>\n",
              "</div>\n",
              "      <button class=\"colab-df-convert\" onclick=\"convertToInteractive('df-fcbf9aa1-4a5b-4fdb-bdc1-3e57012d4760')\"\n",
              "              title=\"Convert this dataframe to an interactive table.\"\n",
              "              style=\"display:none;\">\n",
              "        \n",
              "  <svg xmlns=\"http://www.w3.org/2000/svg\" height=\"24px\"viewBox=\"0 0 24 24\"\n",
              "       width=\"24px\">\n",
              "    <path d=\"M0 0h24v24H0V0z\" fill=\"none\"/>\n",
              "    <path d=\"M18.56 5.44l.94 2.06.94-2.06 2.06-.94-2.06-.94-.94-2.06-.94 2.06-2.06.94zm-11 1L8.5 8.5l.94-2.06 2.06-.94-2.06-.94L8.5 2.5l-.94 2.06-2.06.94zm10 10l.94 2.06.94-2.06 2.06-.94-2.06-.94-.94-2.06-.94 2.06-2.06.94z\"/><path d=\"M17.41 7.96l-1.37-1.37c-.4-.4-.92-.59-1.43-.59-.52 0-1.04.2-1.43.59L10.3 9.45l-7.72 7.72c-.78.78-.78 2.05 0 2.83L4 21.41c.39.39.9.59 1.41.59.51 0 1.02-.2 1.41-.59l7.78-7.78 2.81-2.81c.8-.78.8-2.07 0-2.86zM5.41 20L4 18.59l7.72-7.72 1.47 1.35L5.41 20z\"/>\n",
              "  </svg>\n",
              "      </button>\n",
              "      \n",
              "  <style>\n",
              "    .colab-df-container {\n",
              "      display:flex;\n",
              "      flex-wrap:wrap;\n",
              "      gap: 12px;\n",
              "    }\n",
              "\n",
              "    .colab-df-convert {\n",
              "      background-color: #E8F0FE;\n",
              "      border: none;\n",
              "      border-radius: 50%;\n",
              "      cursor: pointer;\n",
              "      display: none;\n",
              "      fill: #1967D2;\n",
              "      height: 32px;\n",
              "      padding: 0 0 0 0;\n",
              "      width: 32px;\n",
              "    }\n",
              "\n",
              "    .colab-df-convert:hover {\n",
              "      background-color: #E2EBFA;\n",
              "      box-shadow: 0px 1px 2px rgba(60, 64, 67, 0.3), 0px 1px 3px 1px rgba(60, 64, 67, 0.15);\n",
              "      fill: #174EA6;\n",
              "    }\n",
              "\n",
              "    [theme=dark] .colab-df-convert {\n",
              "      background-color: #3B4455;\n",
              "      fill: #D2E3FC;\n",
              "    }\n",
              "\n",
              "    [theme=dark] .colab-df-convert:hover {\n",
              "      background-color: #434B5C;\n",
              "      box-shadow: 0px 1px 3px 1px rgba(0, 0, 0, 0.15);\n",
              "      filter: drop-shadow(0px 1px 2px rgba(0, 0, 0, 0.3));\n",
              "      fill: #FFFFFF;\n",
              "    }\n",
              "  </style>\n",
              "\n",
              "      <script>\n",
              "        const buttonEl =\n",
              "          document.querySelector('#df-fcbf9aa1-4a5b-4fdb-bdc1-3e57012d4760 button.colab-df-convert');\n",
              "        buttonEl.style.display =\n",
              "          google.colab.kernel.accessAllowed ? 'block' : 'none';\n",
              "\n",
              "        async function convertToInteractive(key) {\n",
              "          const element = document.querySelector('#df-fcbf9aa1-4a5b-4fdb-bdc1-3e57012d4760');\n",
              "          const dataTable =\n",
              "            await google.colab.kernel.invokeFunction('convertToInteractive',\n",
              "                                                     [key], {});\n",
              "          if (!dataTable) return;\n",
              "\n",
              "          const docLinkHtml = 'Like what you see? Visit the ' +\n",
              "            '<a target=\"_blank\" href=https://colab.research.google.com/notebooks/data_table.ipynb>data table notebook</a>'\n",
              "            + ' to learn more about interactive tables.';\n",
              "          element.innerHTML = '';\n",
              "          dataTable['output_type'] = 'display_data';\n",
              "          await google.colab.output.renderOutput(dataTable, element);\n",
              "          const docLink = document.createElement('div');\n",
              "          docLink.innerHTML = docLinkHtml;\n",
              "          element.appendChild(docLink);\n",
              "        }\n",
              "      </script>\n",
              "    </div>\n",
              "  </div>\n",
              "  "
            ]
          },
          "metadata": {},
          "execution_count": 13
        }
      ]
    },
    {
      "cell_type": "code",
      "source": [
        "population_df_2030[(population_df_2030['기준 년코드']==2021)&(population_df_2030['기준_분기_코드']==4)].sort_values(by='연령대_30_생활인구_수', ascending=False)[:5]"
      ],
      "metadata": {
        "colab": {
          "base_uri": "https://localhost:8080/",
          "height": 206
        },
        "id": "rxR_O1ndqLuD",
        "outputId": "4736fd79-26be-4b46-c097-e5115c314a04"
      },
      "execution_count": 14,
      "outputs": [
        {
          "output_type": "execute_result",
          "data": {
            "text/plain": [
              "      기준 년코드  기준_분기_코드                 상권_코드_명  총_생활인구_수  연령대_20_생활인구_수  \\\n",
              "390     2021         4                     강남역   6080322        1721760   \n",
              "1012    2021         4                 까치산역 3번   5609435        1063947   \n",
              "369     2021         4                     선릉역   4717980         829640   \n",
              "382     2021         4                     역삼역   3422614         792150   \n",
              "4       2021         4  명동 남대문 북창동 다동 무교동 관광특구   3954704         728140   \n",
              "\n",
              "      연령대_30_생활인구_수  \n",
              "390         1570759  \n",
              "1012        1294363  \n",
              "369         1127675  \n",
              "382         1029490  \n",
              "4           1006255  "
            ],
            "text/html": [
              "\n",
              "  <div id=\"df-ca63d75d-d0ee-4fe3-ad27-a5e2c62b7c59\">\n",
              "    <div class=\"colab-df-container\">\n",
              "      <div>\n",
              "<style scoped>\n",
              "    .dataframe tbody tr th:only-of-type {\n",
              "        vertical-align: middle;\n",
              "    }\n",
              "\n",
              "    .dataframe tbody tr th {\n",
              "        vertical-align: top;\n",
              "    }\n",
              "\n",
              "    .dataframe thead th {\n",
              "        text-align: right;\n",
              "    }\n",
              "</style>\n",
              "<table border=\"1\" class=\"dataframe\">\n",
              "  <thead>\n",
              "    <tr style=\"text-align: right;\">\n",
              "      <th></th>\n",
              "      <th>기준 년코드</th>\n",
              "      <th>기준_분기_코드</th>\n",
              "      <th>상권_코드_명</th>\n",
              "      <th>총_생활인구_수</th>\n",
              "      <th>연령대_20_생활인구_수</th>\n",
              "      <th>연령대_30_생활인구_수</th>\n",
              "    </tr>\n",
              "  </thead>\n",
              "  <tbody>\n",
              "    <tr>\n",
              "      <th>390</th>\n",
              "      <td>2021</td>\n",
              "      <td>4</td>\n",
              "      <td>강남역</td>\n",
              "      <td>6080322</td>\n",
              "      <td>1721760</td>\n",
              "      <td>1570759</td>\n",
              "    </tr>\n",
              "    <tr>\n",
              "      <th>1012</th>\n",
              "      <td>2021</td>\n",
              "      <td>4</td>\n",
              "      <td>까치산역 3번</td>\n",
              "      <td>5609435</td>\n",
              "      <td>1063947</td>\n",
              "      <td>1294363</td>\n",
              "    </tr>\n",
              "    <tr>\n",
              "      <th>369</th>\n",
              "      <td>2021</td>\n",
              "      <td>4</td>\n",
              "      <td>선릉역</td>\n",
              "      <td>4717980</td>\n",
              "      <td>829640</td>\n",
              "      <td>1127675</td>\n",
              "    </tr>\n",
              "    <tr>\n",
              "      <th>382</th>\n",
              "      <td>2021</td>\n",
              "      <td>4</td>\n",
              "      <td>역삼역</td>\n",
              "      <td>3422614</td>\n",
              "      <td>792150</td>\n",
              "      <td>1029490</td>\n",
              "    </tr>\n",
              "    <tr>\n",
              "      <th>4</th>\n",
              "      <td>2021</td>\n",
              "      <td>4</td>\n",
              "      <td>명동 남대문 북창동 다동 무교동 관광특구</td>\n",
              "      <td>3954704</td>\n",
              "      <td>728140</td>\n",
              "      <td>1006255</td>\n",
              "    </tr>\n",
              "  </tbody>\n",
              "</table>\n",
              "</div>\n",
              "      <button class=\"colab-df-convert\" onclick=\"convertToInteractive('df-ca63d75d-d0ee-4fe3-ad27-a5e2c62b7c59')\"\n",
              "              title=\"Convert this dataframe to an interactive table.\"\n",
              "              style=\"display:none;\">\n",
              "        \n",
              "  <svg xmlns=\"http://www.w3.org/2000/svg\" height=\"24px\"viewBox=\"0 0 24 24\"\n",
              "       width=\"24px\">\n",
              "    <path d=\"M0 0h24v24H0V0z\" fill=\"none\"/>\n",
              "    <path d=\"M18.56 5.44l.94 2.06.94-2.06 2.06-.94-2.06-.94-.94-2.06-.94 2.06-2.06.94zm-11 1L8.5 8.5l.94-2.06 2.06-.94-2.06-.94L8.5 2.5l-.94 2.06-2.06.94zm10 10l.94 2.06.94-2.06 2.06-.94-2.06-.94-.94-2.06-.94 2.06-2.06.94z\"/><path d=\"M17.41 7.96l-1.37-1.37c-.4-.4-.92-.59-1.43-.59-.52 0-1.04.2-1.43.59L10.3 9.45l-7.72 7.72c-.78.78-.78 2.05 0 2.83L4 21.41c.39.39.9.59 1.41.59.51 0 1.02-.2 1.41-.59l7.78-7.78 2.81-2.81c.8-.78.8-2.07 0-2.86zM5.41 20L4 18.59l7.72-7.72 1.47 1.35L5.41 20z\"/>\n",
              "  </svg>\n",
              "      </button>\n",
              "      \n",
              "  <style>\n",
              "    .colab-df-container {\n",
              "      display:flex;\n",
              "      flex-wrap:wrap;\n",
              "      gap: 12px;\n",
              "    }\n",
              "\n",
              "    .colab-df-convert {\n",
              "      background-color: #E8F0FE;\n",
              "      border: none;\n",
              "      border-radius: 50%;\n",
              "      cursor: pointer;\n",
              "      display: none;\n",
              "      fill: #1967D2;\n",
              "      height: 32px;\n",
              "      padding: 0 0 0 0;\n",
              "      width: 32px;\n",
              "    }\n",
              "\n",
              "    .colab-df-convert:hover {\n",
              "      background-color: #E2EBFA;\n",
              "      box-shadow: 0px 1px 2px rgba(60, 64, 67, 0.3), 0px 1px 3px 1px rgba(60, 64, 67, 0.15);\n",
              "      fill: #174EA6;\n",
              "    }\n",
              "\n",
              "    [theme=dark] .colab-df-convert {\n",
              "      background-color: #3B4455;\n",
              "      fill: #D2E3FC;\n",
              "    }\n",
              "\n",
              "    [theme=dark] .colab-df-convert:hover {\n",
              "      background-color: #434B5C;\n",
              "      box-shadow: 0px 1px 3px 1px rgba(0, 0, 0, 0.15);\n",
              "      filter: drop-shadow(0px 1px 2px rgba(0, 0, 0, 0.3));\n",
              "      fill: #FFFFFF;\n",
              "    }\n",
              "  </style>\n",
              "\n",
              "      <script>\n",
              "        const buttonEl =\n",
              "          document.querySelector('#df-ca63d75d-d0ee-4fe3-ad27-a5e2c62b7c59 button.colab-df-convert');\n",
              "        buttonEl.style.display =\n",
              "          google.colab.kernel.accessAllowed ? 'block' : 'none';\n",
              "\n",
              "        async function convertToInteractive(key) {\n",
              "          const element = document.querySelector('#df-ca63d75d-d0ee-4fe3-ad27-a5e2c62b7c59');\n",
              "          const dataTable =\n",
              "            await google.colab.kernel.invokeFunction('convertToInteractive',\n",
              "                                                     [key], {});\n",
              "          if (!dataTable) return;\n",
              "\n",
              "          const docLinkHtml = 'Like what you see? Visit the ' +\n",
              "            '<a target=\"_blank\" href=https://colab.research.google.com/notebooks/data_table.ipynb>data table notebook</a>'\n",
              "            + ' to learn more about interactive tables.';\n",
              "          element.innerHTML = '';\n",
              "          dataTable['output_type'] = 'display_data';\n",
              "          await google.colab.output.renderOutput(dataTable, element);\n",
              "          const docLink = document.createElement('div');\n",
              "          docLink.innerHTML = docLinkHtml;\n",
              "          element.appendChild(docLink);\n",
              "        }\n",
              "      </script>\n",
              "    </div>\n",
              "  </div>\n",
              "  "
            ]
          },
          "metadata": {},
          "execution_count": 14
        }
      ]
    },
    {
      "cell_type": "code",
      "source": [
        "# 결과 저장\n",
        "population_recent_best5_20 = list(population_df_2030[(population_df_2030['기준 년코드']==2021)&(population_df_2030['기준_분기_코드']==4)].sort_values(by='연령대_20_생활인구_수', ascending=False)[:5]['상권_코드_명'])\n",
        "population_recent_best5_30 = list(population_df_2030[(population_df_2030['기준 년코드']==2021)&(population_df_2030['기준_분기_코드']==4)].sort_values(by='연령대_30_생활인구_수', ascending=False)[:5]['상권_코드_명'])\n",
        "print('21년 4분기 20대 생활인구 수 상위 5개 상권 : ', population_recent_best5_20)\n",
        "print('21년 4분기 30대 생활인구 수 상위 5개 상권 : ', population_recent_best5_30)"
      ],
      "metadata": {
        "colab": {
          "base_uri": "https://localhost:8080/"
        },
        "id": "AeGlDu7AGNqn",
        "outputId": "f6060ab7-52fb-43a2-9457-99ab62028473"
      },
      "execution_count": 15,
      "outputs": [
        {
          "output_type": "stream",
          "name": "stdout",
          "text": [
            "21년 4분기 20대 생활인구 수 상위 5개 상권 :  ['신촌역(신촌역 신촌로터리)', '강남역', '홍대입구역(홍대)', '신림역 5번(신림동주민센터 신림동별빛거리)', '구립대학경로당(관악산샘말공원)']\n",
            "21년 4분기 30대 생활인구 수 상위 5개 상권 :  ['강남역', '까치산역 3번', '선릉역', '역삼역', '명동 남대문 북창동 다동 무교동 관광특구']\n"
          ]
        }
      ]
    },
    {
      "cell_type": "markdown",
      "source": [
        "### 2) 평균적으로 가장 많은 2030 생활 인구 수를 기록한 상권 5곳은 어디인가?"
      ],
      "metadata": {
        "id": "ynA5UWoXrez2"
      }
    },
    {
      "cell_type": "code",
      "source": [
        "each_area =  population_df_2030['상권_코드_명'].unique()"
      ],
      "metadata": {
        "id": "7ZNdYNPqqaHS"
      },
      "execution_count": 16,
      "outputs": []
    },
    {
      "cell_type": "markdown",
      "source": [
        "> 먼저 결측치가 있을 수 있으므로 아래의 셀을 통해 확인해봅니다."
      ],
      "metadata": {
        "id": "3ShI4fSzs8dF"
      }
    },
    {
      "cell_type": "code",
      "source": [
        "# 결측치 확인\n",
        "for idx, area in enumerate(each_area):\n",
        "    temp = population_df_2030[population_df_2030['상권_코드_명']==area]\n",
        "    if len(temp) != 20:\n",
        "        print(idx)"
      ],
      "metadata": {
        "colab": {
          "base_uri": "https://localhost:8080/"
        },
        "id": "VydFR_pBs2Vk",
        "outputId": "4e1467e0-7057-41da-aef5-ca805aee414b"
      },
      "execution_count": 17,
      "outputs": [
        {
          "output_type": "stream",
          "name": "stdout",
          "text": [
            "1668\n"
          ]
        }
      ]
    },
    {
      "cell_type": "code",
      "source": [
        "each_area[1668]"
      ],
      "metadata": {
        "colab": {
          "base_uri": "https://localhost:8080/",
          "height": 35
        },
        "id": "5uv3I5eZse8N",
        "outputId": "46979202-fb2e-4f66-f780-fe29ba21e345"
      },
      "execution_count": 18,
      "outputs": [
        {
          "output_type": "execute_result",
          "data": {
            "text/plain": [
              "'헌인가구단지'"
            ],
            "application/vnd.google.colaboratory.intrinsic+json": {
              "type": "string"
            }
          },
          "metadata": {},
          "execution_count": 18
        }
      ]
    },
    {
      "cell_type": "markdown",
      "source": [
        "> 결측치가 존재한 지역을 검색해봅니다."
      ],
      "metadata": {
        "id": "ab0UH6fctDHz"
      }
    },
    {
      "cell_type": "code",
      "source": [
        "population_df_2030[population_df_2030['상권_코드_명']=='헌인가구단지']"
      ],
      "metadata": {
        "colab": {
          "base_uri": "https://localhost:8080/",
          "height": 269
        },
        "id": "K8sPvHhBtDvC",
        "outputId": "9c1b65dd-7b16-4ea0-a805-0c470e3788c3"
      },
      "execution_count": 19,
      "outputs": [
        {
          "output_type": "execute_result",
          "data": {
            "text/plain": [
              "       기준 년코드  기준_분기_코드 상권_코드_명  총_생활인구_수  연령대_20_생활인구_수  연령대_30_생활인구_수\n",
              "9061     2020         3  헌인가구단지       105            105              0\n",
              "12398    2020         1  헌인가구단지        65             60              0\n",
              "14067    2019         4  헌인가구단지       365            365              0\n",
              "15736    2019         3  헌인가구단지       255            240              0\n",
              "17405    2019         2  헌인가구단지       290            285              0\n",
              "19074    2019         1  헌인가구단지         5              0              0\n",
              "20743    2018         4  헌인가구단지        50             20              0"
            ],
            "text/html": [
              "\n",
              "  <div id=\"df-2ceae486-19a2-42f3-8975-24eb2dcaa407\">\n",
              "    <div class=\"colab-df-container\">\n",
              "      <div>\n",
              "<style scoped>\n",
              "    .dataframe tbody tr th:only-of-type {\n",
              "        vertical-align: middle;\n",
              "    }\n",
              "\n",
              "    .dataframe tbody tr th {\n",
              "        vertical-align: top;\n",
              "    }\n",
              "\n",
              "    .dataframe thead th {\n",
              "        text-align: right;\n",
              "    }\n",
              "</style>\n",
              "<table border=\"1\" class=\"dataframe\">\n",
              "  <thead>\n",
              "    <tr style=\"text-align: right;\">\n",
              "      <th></th>\n",
              "      <th>기준 년코드</th>\n",
              "      <th>기준_분기_코드</th>\n",
              "      <th>상권_코드_명</th>\n",
              "      <th>총_생활인구_수</th>\n",
              "      <th>연령대_20_생활인구_수</th>\n",
              "      <th>연령대_30_생활인구_수</th>\n",
              "    </tr>\n",
              "  </thead>\n",
              "  <tbody>\n",
              "    <tr>\n",
              "      <th>9061</th>\n",
              "      <td>2020</td>\n",
              "      <td>3</td>\n",
              "      <td>헌인가구단지</td>\n",
              "      <td>105</td>\n",
              "      <td>105</td>\n",
              "      <td>0</td>\n",
              "    </tr>\n",
              "    <tr>\n",
              "      <th>12398</th>\n",
              "      <td>2020</td>\n",
              "      <td>1</td>\n",
              "      <td>헌인가구단지</td>\n",
              "      <td>65</td>\n",
              "      <td>60</td>\n",
              "      <td>0</td>\n",
              "    </tr>\n",
              "    <tr>\n",
              "      <th>14067</th>\n",
              "      <td>2019</td>\n",
              "      <td>4</td>\n",
              "      <td>헌인가구단지</td>\n",
              "      <td>365</td>\n",
              "      <td>365</td>\n",
              "      <td>0</td>\n",
              "    </tr>\n",
              "    <tr>\n",
              "      <th>15736</th>\n",
              "      <td>2019</td>\n",
              "      <td>3</td>\n",
              "      <td>헌인가구단지</td>\n",
              "      <td>255</td>\n",
              "      <td>240</td>\n",
              "      <td>0</td>\n",
              "    </tr>\n",
              "    <tr>\n",
              "      <th>17405</th>\n",
              "      <td>2019</td>\n",
              "      <td>2</td>\n",
              "      <td>헌인가구단지</td>\n",
              "      <td>290</td>\n",
              "      <td>285</td>\n",
              "      <td>0</td>\n",
              "    </tr>\n",
              "    <tr>\n",
              "      <th>19074</th>\n",
              "      <td>2019</td>\n",
              "      <td>1</td>\n",
              "      <td>헌인가구단지</td>\n",
              "      <td>5</td>\n",
              "      <td>0</td>\n",
              "      <td>0</td>\n",
              "    </tr>\n",
              "    <tr>\n",
              "      <th>20743</th>\n",
              "      <td>2018</td>\n",
              "      <td>4</td>\n",
              "      <td>헌인가구단지</td>\n",
              "      <td>50</td>\n",
              "      <td>20</td>\n",
              "      <td>0</td>\n",
              "    </tr>\n",
              "  </tbody>\n",
              "</table>\n",
              "</div>\n",
              "      <button class=\"colab-df-convert\" onclick=\"convertToInteractive('df-2ceae486-19a2-42f3-8975-24eb2dcaa407')\"\n",
              "              title=\"Convert this dataframe to an interactive table.\"\n",
              "              style=\"display:none;\">\n",
              "        \n",
              "  <svg xmlns=\"http://www.w3.org/2000/svg\" height=\"24px\"viewBox=\"0 0 24 24\"\n",
              "       width=\"24px\">\n",
              "    <path d=\"M0 0h24v24H0V0z\" fill=\"none\"/>\n",
              "    <path d=\"M18.56 5.44l.94 2.06.94-2.06 2.06-.94-2.06-.94-.94-2.06-.94 2.06-2.06.94zm-11 1L8.5 8.5l.94-2.06 2.06-.94-2.06-.94L8.5 2.5l-.94 2.06-2.06.94zm10 10l.94 2.06.94-2.06 2.06-.94-2.06-.94-.94-2.06-.94 2.06-2.06.94z\"/><path d=\"M17.41 7.96l-1.37-1.37c-.4-.4-.92-.59-1.43-.59-.52 0-1.04.2-1.43.59L10.3 9.45l-7.72 7.72c-.78.78-.78 2.05 0 2.83L4 21.41c.39.39.9.59 1.41.59.51 0 1.02-.2 1.41-.59l7.78-7.78 2.81-2.81c.8-.78.8-2.07 0-2.86zM5.41 20L4 18.59l7.72-7.72 1.47 1.35L5.41 20z\"/>\n",
              "  </svg>\n",
              "      </button>\n",
              "      \n",
              "  <style>\n",
              "    .colab-df-container {\n",
              "      display:flex;\n",
              "      flex-wrap:wrap;\n",
              "      gap: 12px;\n",
              "    }\n",
              "\n",
              "    .colab-df-convert {\n",
              "      background-color: #E8F0FE;\n",
              "      border: none;\n",
              "      border-radius: 50%;\n",
              "      cursor: pointer;\n",
              "      display: none;\n",
              "      fill: #1967D2;\n",
              "      height: 32px;\n",
              "      padding: 0 0 0 0;\n",
              "      width: 32px;\n",
              "    }\n",
              "\n",
              "    .colab-df-convert:hover {\n",
              "      background-color: #E2EBFA;\n",
              "      box-shadow: 0px 1px 2px rgba(60, 64, 67, 0.3), 0px 1px 3px 1px rgba(60, 64, 67, 0.15);\n",
              "      fill: #174EA6;\n",
              "    }\n",
              "\n",
              "    [theme=dark] .colab-df-convert {\n",
              "      background-color: #3B4455;\n",
              "      fill: #D2E3FC;\n",
              "    }\n",
              "\n",
              "    [theme=dark] .colab-df-convert:hover {\n",
              "      background-color: #434B5C;\n",
              "      box-shadow: 0px 1px 3px 1px rgba(0, 0, 0, 0.15);\n",
              "      filter: drop-shadow(0px 1px 2px rgba(0, 0, 0, 0.3));\n",
              "      fill: #FFFFFF;\n",
              "    }\n",
              "  </style>\n",
              "\n",
              "      <script>\n",
              "        const buttonEl =\n",
              "          document.querySelector('#df-2ceae486-19a2-42f3-8975-24eb2dcaa407 button.colab-df-convert');\n",
              "        buttonEl.style.display =\n",
              "          google.colab.kernel.accessAllowed ? 'block' : 'none';\n",
              "\n",
              "        async function convertToInteractive(key) {\n",
              "          const element = document.querySelector('#df-2ceae486-19a2-42f3-8975-24eb2dcaa407');\n",
              "          const dataTable =\n",
              "            await google.colab.kernel.invokeFunction('convertToInteractive',\n",
              "                                                     [key], {});\n",
              "          if (!dataTable) return;\n",
              "\n",
              "          const docLinkHtml = 'Like what you see? Visit the ' +\n",
              "            '<a target=\"_blank\" href=https://colab.research.google.com/notebooks/data_table.ipynb>data table notebook</a>'\n",
              "            + ' to learn more about interactive tables.';\n",
              "          element.innerHTML = '';\n",
              "          dataTable['output_type'] = 'display_data';\n",
              "          await google.colab.output.renderOutput(dataTable, element);\n",
              "          const docLink = document.createElement('div');\n",
              "          docLink.innerHTML = docLinkHtml;\n",
              "          element.appendChild(docLink);\n",
              "        }\n",
              "      </script>\n",
              "    </div>\n",
              "  </div>\n",
              "  "
            ]
          },
          "metadata": {},
          "execution_count": 19
        }
      ]
    },
    {
      "cell_type": "markdown",
      "source": [
        "> 생활 인구 수도 적고 데이터 자체가 불안정하므로 해당 지역을 제외하고 분석을 진행하도록 하겠습니다."
      ],
      "metadata": {
        "id": "wU7xP-3wtPjQ"
      }
    },
    {
      "cell_type": "code",
      "source": [
        "each_area = [area for area in each_area if area != '헌인가구단지']"
      ],
      "metadata": {
        "id": "qVwokz6LtYlg"
      },
      "execution_count": 20,
      "outputs": []
    },
    {
      "cell_type": "code",
      "source": [
        "population_2030_mean_by_area = {}\n",
        "for area in each_area:\n",
        "    temp = population_df_2030[population_df_2030['상권_코드_명']==area]\n",
        "    population_2030_mean_by_area[area] = {'20' : temp['연령대_20_생활인구_수'].mean(),\n",
        "                                            '30' : temp['연령대_30_생활인구_수'].mean()}"
      ],
      "metadata": {
        "id": "ZXPf9-OQte1e"
      },
      "execution_count": 21,
      "outputs": []
    },
    {
      "cell_type": "code",
      "source": [
        "pd.DataFrame(population_2030_mean_by_area).T.sort_values(by='20', ascending=False)[:5]"
      ],
      "metadata": {
        "colab": {
          "base_uri": "https://localhost:8080/",
          "height": 206
        },
        "id": "U1hlM7rdu_qA",
        "outputId": "f4847162-59b2-4794-8bae-abf5632ce2f0"
      },
      "execution_count": 22,
      "outputs": [
        {
          "output_type": "execute_result",
          "data": {
            "text/plain": [
              "                                 20          30\n",
              "신촌역(신촌역 신촌로터리)           2574947.75   833287.70\n",
              "강남역                      2281094.90  1711663.00\n",
              "홍대입구역(홍대)                1932040.30   896698.00\n",
              "구립대학경로당(관악산샘말공원)         1615388.70  1047465.90\n",
              "신림역 5번(신림동주민센터 신림동별빛거리)  1317447.00   826566.25"
            ],
            "text/html": [
              "\n",
              "  <div id=\"df-30b116cc-1dcb-44d6-a5d2-2252fa0581b4\">\n",
              "    <div class=\"colab-df-container\">\n",
              "      <div>\n",
              "<style scoped>\n",
              "    .dataframe tbody tr th:only-of-type {\n",
              "        vertical-align: middle;\n",
              "    }\n",
              "\n",
              "    .dataframe tbody tr th {\n",
              "        vertical-align: top;\n",
              "    }\n",
              "\n",
              "    .dataframe thead th {\n",
              "        text-align: right;\n",
              "    }\n",
              "</style>\n",
              "<table border=\"1\" class=\"dataframe\">\n",
              "  <thead>\n",
              "    <tr style=\"text-align: right;\">\n",
              "      <th></th>\n",
              "      <th>20</th>\n",
              "      <th>30</th>\n",
              "    </tr>\n",
              "  </thead>\n",
              "  <tbody>\n",
              "    <tr>\n",
              "      <th>신촌역(신촌역 신촌로터리)</th>\n",
              "      <td>2574947.75</td>\n",
              "      <td>833287.70</td>\n",
              "    </tr>\n",
              "    <tr>\n",
              "      <th>강남역</th>\n",
              "      <td>2281094.90</td>\n",
              "      <td>1711663.00</td>\n",
              "    </tr>\n",
              "    <tr>\n",
              "      <th>홍대입구역(홍대)</th>\n",
              "      <td>1932040.30</td>\n",
              "      <td>896698.00</td>\n",
              "    </tr>\n",
              "    <tr>\n",
              "      <th>구립대학경로당(관악산샘말공원)</th>\n",
              "      <td>1615388.70</td>\n",
              "      <td>1047465.90</td>\n",
              "    </tr>\n",
              "    <tr>\n",
              "      <th>신림역 5번(신림동주민센터 신림동별빛거리)</th>\n",
              "      <td>1317447.00</td>\n",
              "      <td>826566.25</td>\n",
              "    </tr>\n",
              "  </tbody>\n",
              "</table>\n",
              "</div>\n",
              "      <button class=\"colab-df-convert\" onclick=\"convertToInteractive('df-30b116cc-1dcb-44d6-a5d2-2252fa0581b4')\"\n",
              "              title=\"Convert this dataframe to an interactive table.\"\n",
              "              style=\"display:none;\">\n",
              "        \n",
              "  <svg xmlns=\"http://www.w3.org/2000/svg\" height=\"24px\"viewBox=\"0 0 24 24\"\n",
              "       width=\"24px\">\n",
              "    <path d=\"M0 0h24v24H0V0z\" fill=\"none\"/>\n",
              "    <path d=\"M18.56 5.44l.94 2.06.94-2.06 2.06-.94-2.06-.94-.94-2.06-.94 2.06-2.06.94zm-11 1L8.5 8.5l.94-2.06 2.06-.94-2.06-.94L8.5 2.5l-.94 2.06-2.06.94zm10 10l.94 2.06.94-2.06 2.06-.94-2.06-.94-.94-2.06-.94 2.06-2.06.94z\"/><path d=\"M17.41 7.96l-1.37-1.37c-.4-.4-.92-.59-1.43-.59-.52 0-1.04.2-1.43.59L10.3 9.45l-7.72 7.72c-.78.78-.78 2.05 0 2.83L4 21.41c.39.39.9.59 1.41.59.51 0 1.02-.2 1.41-.59l7.78-7.78 2.81-2.81c.8-.78.8-2.07 0-2.86zM5.41 20L4 18.59l7.72-7.72 1.47 1.35L5.41 20z\"/>\n",
              "  </svg>\n",
              "      </button>\n",
              "      \n",
              "  <style>\n",
              "    .colab-df-container {\n",
              "      display:flex;\n",
              "      flex-wrap:wrap;\n",
              "      gap: 12px;\n",
              "    }\n",
              "\n",
              "    .colab-df-convert {\n",
              "      background-color: #E8F0FE;\n",
              "      border: none;\n",
              "      border-radius: 50%;\n",
              "      cursor: pointer;\n",
              "      display: none;\n",
              "      fill: #1967D2;\n",
              "      height: 32px;\n",
              "      padding: 0 0 0 0;\n",
              "      width: 32px;\n",
              "    }\n",
              "\n",
              "    .colab-df-convert:hover {\n",
              "      background-color: #E2EBFA;\n",
              "      box-shadow: 0px 1px 2px rgba(60, 64, 67, 0.3), 0px 1px 3px 1px rgba(60, 64, 67, 0.15);\n",
              "      fill: #174EA6;\n",
              "    }\n",
              "\n",
              "    [theme=dark] .colab-df-convert {\n",
              "      background-color: #3B4455;\n",
              "      fill: #D2E3FC;\n",
              "    }\n",
              "\n",
              "    [theme=dark] .colab-df-convert:hover {\n",
              "      background-color: #434B5C;\n",
              "      box-shadow: 0px 1px 3px 1px rgba(0, 0, 0, 0.15);\n",
              "      filter: drop-shadow(0px 1px 2px rgba(0, 0, 0, 0.3));\n",
              "      fill: #FFFFFF;\n",
              "    }\n",
              "  </style>\n",
              "\n",
              "      <script>\n",
              "        const buttonEl =\n",
              "          document.querySelector('#df-30b116cc-1dcb-44d6-a5d2-2252fa0581b4 button.colab-df-convert');\n",
              "        buttonEl.style.display =\n",
              "          google.colab.kernel.accessAllowed ? 'block' : 'none';\n",
              "\n",
              "        async function convertToInteractive(key) {\n",
              "          const element = document.querySelector('#df-30b116cc-1dcb-44d6-a5d2-2252fa0581b4');\n",
              "          const dataTable =\n",
              "            await google.colab.kernel.invokeFunction('convertToInteractive',\n",
              "                                                     [key], {});\n",
              "          if (!dataTable) return;\n",
              "\n",
              "          const docLinkHtml = 'Like what you see? Visit the ' +\n",
              "            '<a target=\"_blank\" href=https://colab.research.google.com/notebooks/data_table.ipynb>data table notebook</a>'\n",
              "            + ' to learn more about interactive tables.';\n",
              "          element.innerHTML = '';\n",
              "          dataTable['output_type'] = 'display_data';\n",
              "          await google.colab.output.renderOutput(dataTable, element);\n",
              "          const docLink = document.createElement('div');\n",
              "          docLink.innerHTML = docLinkHtml;\n",
              "          element.appendChild(docLink);\n",
              "        }\n",
              "      </script>\n",
              "    </div>\n",
              "  </div>\n",
              "  "
            ]
          },
          "metadata": {},
          "execution_count": 22
        }
      ]
    },
    {
      "cell_type": "code",
      "source": [
        "pd.DataFrame(population_2030_mean_by_area).T.sort_values(by='30', ascending=False)[:5]"
      ],
      "metadata": {
        "colab": {
          "base_uri": "https://localhost:8080/",
          "height": 206
        },
        "id": "N-bTh4TBvPUi",
        "outputId": "ec16c415-1fb3-4b28-ca8c-9f05fcab7f1c"
      },
      "execution_count": 23,
      "outputs": [
        {
          "output_type": "execute_result",
          "data": {
            "text/plain": [
              "                                20          30\n",
              "강남역                     2281094.90  1711663.00\n",
              "명동 남대문 북창동 다동 무교동 관광특구   930361.30  1208043.20\n",
              "선릉역                      922611.55  1200654.75\n",
              "까치산역 3번                  922195.75  1116764.95\n",
              "역삼역                      877067.10  1076004.50"
            ],
            "text/html": [
              "\n",
              "  <div id=\"df-a095e0b5-ace5-4165-80ea-7e4d8cc4ad05\">\n",
              "    <div class=\"colab-df-container\">\n",
              "      <div>\n",
              "<style scoped>\n",
              "    .dataframe tbody tr th:only-of-type {\n",
              "        vertical-align: middle;\n",
              "    }\n",
              "\n",
              "    .dataframe tbody tr th {\n",
              "        vertical-align: top;\n",
              "    }\n",
              "\n",
              "    .dataframe thead th {\n",
              "        text-align: right;\n",
              "    }\n",
              "</style>\n",
              "<table border=\"1\" class=\"dataframe\">\n",
              "  <thead>\n",
              "    <tr style=\"text-align: right;\">\n",
              "      <th></th>\n",
              "      <th>20</th>\n",
              "      <th>30</th>\n",
              "    </tr>\n",
              "  </thead>\n",
              "  <tbody>\n",
              "    <tr>\n",
              "      <th>강남역</th>\n",
              "      <td>2281094.90</td>\n",
              "      <td>1711663.00</td>\n",
              "    </tr>\n",
              "    <tr>\n",
              "      <th>명동 남대문 북창동 다동 무교동 관광특구</th>\n",
              "      <td>930361.30</td>\n",
              "      <td>1208043.20</td>\n",
              "    </tr>\n",
              "    <tr>\n",
              "      <th>선릉역</th>\n",
              "      <td>922611.55</td>\n",
              "      <td>1200654.75</td>\n",
              "    </tr>\n",
              "    <tr>\n",
              "      <th>까치산역 3번</th>\n",
              "      <td>922195.75</td>\n",
              "      <td>1116764.95</td>\n",
              "    </tr>\n",
              "    <tr>\n",
              "      <th>역삼역</th>\n",
              "      <td>877067.10</td>\n",
              "      <td>1076004.50</td>\n",
              "    </tr>\n",
              "  </tbody>\n",
              "</table>\n",
              "</div>\n",
              "      <button class=\"colab-df-convert\" onclick=\"convertToInteractive('df-a095e0b5-ace5-4165-80ea-7e4d8cc4ad05')\"\n",
              "              title=\"Convert this dataframe to an interactive table.\"\n",
              "              style=\"display:none;\">\n",
              "        \n",
              "  <svg xmlns=\"http://www.w3.org/2000/svg\" height=\"24px\"viewBox=\"0 0 24 24\"\n",
              "       width=\"24px\">\n",
              "    <path d=\"M0 0h24v24H0V0z\" fill=\"none\"/>\n",
              "    <path d=\"M18.56 5.44l.94 2.06.94-2.06 2.06-.94-2.06-.94-.94-2.06-.94 2.06-2.06.94zm-11 1L8.5 8.5l.94-2.06 2.06-.94-2.06-.94L8.5 2.5l-.94 2.06-2.06.94zm10 10l.94 2.06.94-2.06 2.06-.94-2.06-.94-.94-2.06-.94 2.06-2.06.94z\"/><path d=\"M17.41 7.96l-1.37-1.37c-.4-.4-.92-.59-1.43-.59-.52 0-1.04.2-1.43.59L10.3 9.45l-7.72 7.72c-.78.78-.78 2.05 0 2.83L4 21.41c.39.39.9.59 1.41.59.51 0 1.02-.2 1.41-.59l7.78-7.78 2.81-2.81c.8-.78.8-2.07 0-2.86zM5.41 20L4 18.59l7.72-7.72 1.47 1.35L5.41 20z\"/>\n",
              "  </svg>\n",
              "      </button>\n",
              "      \n",
              "  <style>\n",
              "    .colab-df-container {\n",
              "      display:flex;\n",
              "      flex-wrap:wrap;\n",
              "      gap: 12px;\n",
              "    }\n",
              "\n",
              "    .colab-df-convert {\n",
              "      background-color: #E8F0FE;\n",
              "      border: none;\n",
              "      border-radius: 50%;\n",
              "      cursor: pointer;\n",
              "      display: none;\n",
              "      fill: #1967D2;\n",
              "      height: 32px;\n",
              "      padding: 0 0 0 0;\n",
              "      width: 32px;\n",
              "    }\n",
              "\n",
              "    .colab-df-convert:hover {\n",
              "      background-color: #E2EBFA;\n",
              "      box-shadow: 0px 1px 2px rgba(60, 64, 67, 0.3), 0px 1px 3px 1px rgba(60, 64, 67, 0.15);\n",
              "      fill: #174EA6;\n",
              "    }\n",
              "\n",
              "    [theme=dark] .colab-df-convert {\n",
              "      background-color: #3B4455;\n",
              "      fill: #D2E3FC;\n",
              "    }\n",
              "\n",
              "    [theme=dark] .colab-df-convert:hover {\n",
              "      background-color: #434B5C;\n",
              "      box-shadow: 0px 1px 3px 1px rgba(0, 0, 0, 0.15);\n",
              "      filter: drop-shadow(0px 1px 2px rgba(0, 0, 0, 0.3));\n",
              "      fill: #FFFFFF;\n",
              "    }\n",
              "  </style>\n",
              "\n",
              "      <script>\n",
              "        const buttonEl =\n",
              "          document.querySelector('#df-a095e0b5-ace5-4165-80ea-7e4d8cc4ad05 button.colab-df-convert');\n",
              "        buttonEl.style.display =\n",
              "          google.colab.kernel.accessAllowed ? 'block' : 'none';\n",
              "\n",
              "        async function convertToInteractive(key) {\n",
              "          const element = document.querySelector('#df-a095e0b5-ace5-4165-80ea-7e4d8cc4ad05');\n",
              "          const dataTable =\n",
              "            await google.colab.kernel.invokeFunction('convertToInteractive',\n",
              "                                                     [key], {});\n",
              "          if (!dataTable) return;\n",
              "\n",
              "          const docLinkHtml = 'Like what you see? Visit the ' +\n",
              "            '<a target=\"_blank\" href=https://colab.research.google.com/notebooks/data_table.ipynb>data table notebook</a>'\n",
              "            + ' to learn more about interactive tables.';\n",
              "          element.innerHTML = '';\n",
              "          dataTable['output_type'] = 'display_data';\n",
              "          await google.colab.output.renderOutput(dataTable, element);\n",
              "          const docLink = document.createElement('div');\n",
              "          docLink.innerHTML = docLinkHtml;\n",
              "          element.appendChild(docLink);\n",
              "        }\n",
              "      </script>\n",
              "    </div>\n",
              "  </div>\n",
              "  "
            ]
          },
          "metadata": {},
          "execution_count": 23
        }
      ]
    },
    {
      "cell_type": "code",
      "source": [
        "# 결과 저장\n",
        "population_mean_best5_20 = list(pd.DataFrame(population_2030_mean_by_area).T.sort_values(by='20', ascending=False)[:5].index)\n",
        "population_mean_best5_30 = list(pd.DataFrame(population_2030_mean_by_area).T.sort_values(by='30', ascending=False)[:5].index)\n",
        "print('20대 생활인구 수 평균 상위 5개 상권 : ', population_mean_best5_20)\n",
        "print('30대 생활인구 수 평균 상위 5개 상권 : ', population_mean_best5_30)"
      ],
      "metadata": {
        "colab": {
          "base_uri": "https://localhost:8080/"
        },
        "id": "GmyQe7k6Gt5C",
        "outputId": "4e1859bb-f794-4a68-8ed5-3e75df042060"
      },
      "execution_count": 24,
      "outputs": [
        {
          "output_type": "stream",
          "name": "stdout",
          "text": [
            "20대 생활인구 수 평균 상위 5개 상권 :  ['신촌역(신촌역 신촌로터리)', '강남역', '홍대입구역(홍대)', '구립대학경로당(관악산샘말공원)', '신림역 5번(신림동주민센터 신림동별빛거리)']\n",
            "30대 생활인구 수 평균 상위 5개 상권 :  ['강남역', '명동 남대문 북창동 다동 무교동 관광특구', '선릉역', '까치산역 3번', '역삼역']\n"
          ]
        }
      ]
    },
    {
      "cell_type": "markdown",
      "source": [
        "> 이처럼 `생활인구 수` 기준으로 2030 연령대가 가장 많은 상권을 조회해보았습니다.\n",
        ">\n",
        "> 가장 최근 정보로 조회하든 평균으로 조회하든 결과적으로 순위의 변동은 있으나 각각 5개 지역이 고정적으로 등장함을 알 수 있었습니다.\n",
        ">> 20대의 경우 : 신촌, 강남, 홍대, 관악, 신림\n",
        ">>\n",
        ">> 30대의 경우 : 강남, 명동, 선릉, 까치산, 역삼\n",
        ">\n",
        "> 그러나 단순히 생활인구 수가 많다고 매출이 잘나올꺼라고 보는 것은 논리적 비약이라고 생각했습니다.\n",
        "> \n",
        "> 따라서 다음으로 위 상권들의 매출을 살펴보겠습니다."
      ],
      "metadata": {
        "id": "iVG1Qfyovabf"
      }
    },
    {
      "cell_type": "markdown",
      "source": [
        "## 2. 20대, 30대 유동인구가 많은 상권들 중 양식음식점 매출액이 높은 순서로 정렬해보자."
      ],
      "metadata": {
        "id": "SEvrxgEXFRcw"
      }
    },
    {
      "cell_type": "markdown",
      "source": [
        "> 매출액은 집계 기간 내의 평균으로만 확인할 경우 매출의 변화 추이나 트렌드를 읽기 어려워집니다.\n",
        ">\n",
        "> 따라서 각 상권마다 집계 기간 내의 평균을 구하고 추가로 시각화를 진행하여 매출의 변화 추이를 확인하는 것이 바람직하다고 생각합니다.\n",
        ">> 1) 앞서 구한 각 상권의 집계 기간 내 양식음식점 매출액 평균 계산\n",
        ">>\n",
        ">> 2) 각 상권의 양식음식점 매출액 변화 추이 시각화"
      ],
      "metadata": {
        "id": "G62g5HDWINmu"
      }
    },
    {
      "cell_type": "markdown",
      "source": [
        "### 1) 앞서 구한 각 상권의 집계 기간 내 양식음식점 매출액 평균 계산"
      ],
      "metadata": {
        "id": "4y3vPKFTI77g"
      }
    },
    {
      "cell_type": "markdown",
      "source": [
        "> 앞서 구한 상권 리스트는 20대와 30대로 구분되어 있습니다. \n",
        ">\n",
        "> 매출은 연령대로 구분지을 필요가 없으므로 두 리스트를 합쳐서 처리합니다.\n",
        ">\n",
        "> 최종적인 상권은 강남역이 중복되므로 총 `9`개입니다."
      ],
      "metadata": {
        "id": "ayigGYuVJow_"
      }
    },
    {
      "cell_type": "markdown",
      "source": [
        "> 먼저 앞서 구한 상권 리스트는 `21년 4분기 기준`과 `전체 기간 평균 기준` 두가지 리스트로 존재합니다.\n",
        ">\n",
        "> 이 두가지 다른 기준으로 만들어진 리스트의 상권이 동일한지 파악해봅니다."
      ],
      "metadata": {
        "id": "OPonKaY0K7eB"
      }
    },
    {
      "cell_type": "code",
      "source": [
        "print(\"21년 4분기의 20대 생활인구 수 상위 5개 상권과 전체 기간 동안 생활인구 수 상위 5개 상권이 동일한가?\", set(population_mean_best5_20) == set(population_recent_best5_20))\n",
        "print(\"21년 4분기의 30대 생활인구 수 상위 5개 상권과 전체 기간 동안 생활인구 수 상위 5개 상권이 동일한가?\", set(population_mean_best5_30) == set(population_recent_best5_30))"
      ],
      "metadata": {
        "colab": {
          "base_uri": "https://localhost:8080/"
        },
        "id": "yxxuw7I2Kc5L",
        "outputId": "11828e77-bdc2-4b8d-ae56-59f6ce2a0213"
      },
      "execution_count": 25,
      "outputs": [
        {
          "output_type": "stream",
          "name": "stdout",
          "text": [
            "21년 4분기의 20대 생활인구 수 상위 5개 상권과 전체 기간 동안 생활인구 수 상위 5개 상권이 동일한가? True\n",
            "21년 4분기의 30대 생활인구 수 상위 5개 상권과 전체 기간 동안 생활인구 수 상위 5개 상권이 동일한가? True\n"
          ]
        }
      ]
    },
    {
      "cell_type": "markdown",
      "source": [
        "> 두가지 기준으로 구해진 리스트의 상권이 동일하므로 두 리스트 중 아무 리스트나 사용해도 `구성 상권의 변화가 없음을 신뢰`할 수 있습니다.\n",
        "> \n",
        "> 따라서 저는 평균 기준 리스트를 사용하여 20대, 30대를 기준으로 나뉜 두 상권 리스트를 합치도록 하겠습니다."
      ],
      "metadata": {
        "id": "vH5ax2agLN8o"
      }
    },
    {
      "cell_type": "code",
      "source": [
        "best_2030_population_areas = list(set(population_mean_best5_20 + population_mean_best5_30))\n",
        "best_2030_population_areas"
      ],
      "metadata": {
        "colab": {
          "base_uri": "https://localhost:8080/"
        },
        "id": "x_uROpa9LsGY",
        "outputId": "65aea7cf-5c40-46bd-dc6e-5933b8f20c93"
      },
      "execution_count": 26,
      "outputs": [
        {
          "output_type": "execute_result",
          "data": {
            "text/plain": [
              "['홍대입구역(홍대)',\n",
              " '강남역',\n",
              " '선릉역',\n",
              " '역삼역',\n",
              " '구립대학경로당(관악산샘말공원)',\n",
              " '까치산역 3번',\n",
              " '신림역 5번(신림동주민센터 신림동별빛거리)',\n",
              " '명동 남대문 북창동 다동 무교동 관광특구',\n",
              " '신촌역(신촌역 신촌로터리)']"
            ]
          },
          "metadata": {},
          "execution_count": 26
        }
      ]
    },
    {
      "cell_type": "markdown",
      "source": [
        "> 이제 `서울시 우리마을가게 상권분석서비스(상권-추정매출).csv` 데이터를 사용해 위 상권에서 양식음식점의 매출액 평균을 계산하겠습니다.\n",
        ">\n",
        "> 그 전에 이 데이터의 `상권 코드 명`열에 앞선 상권들이 있는지 확인해보겠습니다."
      ],
      "metadata": {
        "id": "d_suhOy2MAr1"
      }
    },
    {
      "cell_type": "code",
      "source": [
        "for area in best_2030_population_areas:\n",
        "    if area not in sales_df['상권_코드_명'].unique():\n",
        "        print(area)"
      ],
      "metadata": {
        "colab": {
          "base_uri": "https://localhost:8080/"
        },
        "id": "Rf97FlfPOPF8",
        "outputId": "2f8973bc-2b27-4ac4-837c-febc71ad1bcb"
      },
      "execution_count": 27,
      "outputs": [
        {
          "output_type": "stream",
          "name": "stdout",
          "text": [
            "신림역 5번(신림동주민센터 신림동별빛거리)\n",
            "신촌역(신촌역 신촌로터리)\n"
          ]
        }
      ]
    },
    {
      "cell_type": "markdown",
      "source": [
        "> 상권의 이름이 존재하지 않는 문제가 발생하였습니다.\n",
        ">\n",
        "> 이를 해결할 수 있는 단순한 방법은 상권 코드 명을 단순화시키는 것입니다.\n",
        ">\n",
        "> 하지만, 이를 모든 이름에 적용한다면 비슷한 이름이 중복되거나 그 또한 이름이 존재하지 않는 등 또다른 문제를 야기할 가능성이 있습니다.\n",
        ">\n",
        "> 따라서 위의 두 상권에 대해 처리해보도록 하겠습니다."
      ],
      "metadata": {
        "id": "0KpC_ItWOdSJ"
      }
    },
    {
      "cell_type": "code",
      "source": [
        "sales_df[sales_df['상권_코드_명'].str.contains('신림역 5번')]['상권_코드_명'].unique()"
      ],
      "metadata": {
        "colab": {
          "base_uri": "https://localhost:8080/"
        },
        "id": "cYkKKfFnO6Y8",
        "outputId": "9e4fe0e6-987c-4daf-9853-0bc00a030e51"
      },
      "execution_count": 28,
      "outputs": [
        {
          "output_type": "execute_result",
          "data": {
            "text/plain": [
              "array(['신림역 5번(신림동주민센터, 신림동별빛거리)'], dtype=object)"
            ]
          },
          "metadata": {},
          "execution_count": 28
        }
      ]
    },
    {
      "cell_type": "code",
      "source": [
        "sales_df[sales_df['상권_코드_명'].str.contains('신촌역')]['상권_코드_명'].unique()"
      ],
      "metadata": {
        "colab": {
          "base_uri": "https://localhost:8080/"
        },
        "id": "EiEty189Pldh",
        "outputId": "059fba2e-baa2-4743-b118-ca464c08d940"
      },
      "execution_count": 29,
      "outputs": [
        {
          "output_type": "execute_result",
          "data": {
            "text/plain": [
              "array(['경의중앙 신촌역', '신촌역 6번', '신촌역(신촌역, 신촌로터리)'], dtype=object)"
            ]
          },
          "metadata": {},
          "execution_count": 29
        }
      ]
    },
    {
      "cell_type": "markdown",
      "source": [
        "> `신림역 5번`과 `신촌역` 모두 단순히 콤마(,)가 빠져있기 때문에 발생한 문제였습니다.\n",
        ">\n",
        "> 이를 수정해줍니다."
      ],
      "metadata": {
        "id": "BZ9uox1DPvaF"
      }
    },
    {
      "cell_type": "code",
      "source": [
        "best_2030_population_areas = ['강남역', '까치산역 3번', '선릉역', '역삼역', '명동 남대문 북창동 다동 무교동 관광특구', '홍대입구역(홍대)', '구립대학경로당(관악산샘말공원)', '신림역 5번(신림동주민센터, 신림동별빛거리)', '신촌역(신촌역, 신촌로터리)']"
      ],
      "metadata": {
        "id": "90xIXIoGQBl3"
      },
      "execution_count": 51,
      "outputs": []
    },
    {
      "cell_type": "markdown",
      "source": [
        "> 다시 조회해보면 이제 모든 상권 이름에 대해 조회가 되는 것을 볼 수 있습니다."
      ],
      "metadata": {
        "id": "3D1hF8EoQQv-"
      }
    },
    {
      "cell_type": "code",
      "source": [
        "for area in best_2030_population_areas:\n",
        "    if area not in sales_df['상권_코드_명'].unique():\n",
        "        print(area)"
      ],
      "metadata": {
        "id": "ybah29uEQV1r"
      },
      "execution_count": 52,
      "outputs": []
    },
    {
      "cell_type": "markdown",
      "source": [
        "> 다음으로 각 상권에 양식음식점이 존재하는지 검사해볼 필요가 있습니다."
      ],
      "metadata": {
        "id": "48oBverEQo0E"
      }
    },
    {
      "cell_type": "code",
      "source": [
        "for area in best_2030_population_areas:\n",
        "    if '양식음식점' not in sales_df[(sales_df['상권_코드_명']==area)]['서비스_업종_코드_명'].unique():\n",
        "        print(area)"
      ],
      "metadata": {
        "colab": {
          "base_uri": "https://localhost:8080/"
        },
        "id": "6nM4cBdqQygf",
        "outputId": "1bafdbc7-09d4-47a6-9cdc-b033b010cfa4"
      },
      "execution_count": 53,
      "outputs": [
        {
          "output_type": "stream",
          "name": "stdout",
          "text": [
            "까치산역 3번\n"
          ]
        }
      ]
    },
    {
      "cell_type": "markdown",
      "source": [
        "> 까치산역 3번 출구 상권에는 양식음식점이 없다는 결과를 얻었습니다.\n",
        ">\n",
        "> 직접 조회해서 확인해보겠습니다."
      ],
      "metadata": {
        "id": "zEETWXH1RErS"
      }
    },
    {
      "cell_type": "code",
      "source": [
        "sales_df[(sales_df['상권_코드_명']=='까치산역 3번')]['서비스_업종_코드_명'].unique()"
      ],
      "metadata": {
        "colab": {
          "base_uri": "https://localhost:8080/"
        },
        "id": "FxpkczvxROZB",
        "outputId": "760c71f5-6bf2-4a2f-8c2b-2431a57afea6"
      },
      "execution_count": 54,
      "outputs": [
        {
          "output_type": "execute_result",
          "data": {
            "text/plain": [
              "array(['한식음식점', '중식음식점', '일식음식점', '제과점', '치킨전문점', '분식전문점', '호프-간이주점',\n",
              "       '커피-음료', '당구장', '골프연습장', '자동차수리', '자동차미용', '미용실', '네일숍', '피부관리실',\n",
              "       '세탁소', '가전제품수리', '여관', '노래방', '슈퍼마켓', '편의점', '핸드폰', '청과상', '의약품',\n",
              "       '화장품', '운동/경기용품', '애완동물', '철물점', '조명용품', '전자상거래업', '부동산중개업',\n",
              "       '일반교습학원', '의료기기', '패스트푸드점', '육류판매'], dtype=object)"
            ]
          },
          "metadata": {},
          "execution_count": 54
        }
      ]
    },
    {
      "cell_type": "markdown",
      "source": [
        "> 실제로 존재하지 않았습니다.\n",
        ">\n",
        "> 이는 역으로 생각할 때 블루오션이라고 볼 수 있으며, 경쟁력있는 상권이 될 수 있습니다.\n",
        ">\n",
        "> 매출액 평균 계산에서는 제외하지만 주목해볼만 합니다."
      ],
      "metadata": {
        "id": "lMJ0U8NjRcIU"
      }
    },
    {
      "cell_type": "code",
      "source": [
        "best_2030_population_areas = [area for area in best_2030_population_areas if area != '까치산역 3번']"
      ],
      "metadata": {
        "id": "wW7jIrDgR3BD"
      },
      "execution_count": 55,
      "outputs": []
    },
    {
      "cell_type": "markdown",
      "source": [
        "> 이제 본격적으로 양식음식점 매출액 평균을 계산해보겠습니다.\n",
        ">\n",
        "> 아래의 셀처럼 상권 코드 명과 서비스 업종 코드 명으로 검색하면 연도-분기별 기록을 조회할 수 있습니다."
      ],
      "metadata": {
        "id": "YZ1N2e9dOC76"
      }
    },
    {
      "cell_type": "code",
      "source": [
        "sales_df[(sales_df['상권_코드_명']=='강남역')&(sales_df['서비스_업종_코드_명']=='양식음식점')][:8]"
      ],
      "metadata": {
        "colab": {
          "base_uri": "https://localhost:8080/",
          "height": 408
        },
        "id": "SgF_FNrxMfvU",
        "outputId": "5e805045-abdc-4af2-e320-3e919b32a39f"
      },
      "execution_count": 56,
      "outputs": [
        {
          "output_type": "execute_result",
          "data": {
            "text/plain": [
              "        기준_년_코드  기준_분기_코드 상권_구분_코드 상권_구분_코드_명    상권_코드 상권_코드_명 서비스_업종_코드  \\\n",
              "35271      2017         1        D       발달상권  2120189     강남역  CS100004   \n",
              "80710      2017         2        D       발달상권  2120189     강남역  CS100004   \n",
              "125877     2017         3        D       발달상권  2120189     강남역  CS100004   \n",
              "170637     2017         4        D       발달상권  2120189     강남역  CS100004   \n",
              "215178     2018         1        D       발달상권  2120189     강남역  CS100004   \n",
              "259613     2018         2        D       발달상권  2120189     강남역  CS100004   \n",
              "303669     2018         3        D       발달상권  2120189     강남역  CS100004   \n",
              "347827     2018         4        D       발달상권  2120189     강남역  CS100004   \n",
              "\n",
              "       서비스_업종_코드_명    분기당_매출_금액  분기당_매출_건수  ...  시간대_건수~24_매출_건수  남성_매출_건수  \\\n",
              "35271        양식음식점  19914915375     741101  ...            85236    290733   \n",
              "80710        양식음식점  18430223064     717509  ...            77291    286419   \n",
              "125877       양식음식점  20035229500     791959  ...            83339    316475   \n",
              "170637       양식음식점  18309522731     680562  ...            74737    274683   \n",
              "215178       양식음식점  19256125907     738221  ...            76480    292354   \n",
              "259613       양식음식점  18218498215     745771  ...            72395    296186   \n",
              "303669       양식음식점  18591698311     788838  ...            71528    321901   \n",
              "347827       양식음식점  18063215572     712498  ...            66003    290333   \n",
              "\n",
              "        여성_매출_건수  연령대_10_매출_건수  연령대_20_매출_건수  연령대_30_매출_건수  연령대_40_매출_건수  \\\n",
              "35271     396638         19539        359552        166686         74086   \n",
              "80710     372118         18908        328414        169010         77356   \n",
              "125877    415853         26436        376594        167135         86359   \n",
              "170637    346802         23587        312251        145758         75481   \n",
              "215178    383012         20709        342693        161072         77950   \n",
              "259613    377000         17580        320198        174443         83174   \n",
              "303669    393284         22911        349745        166193         90478   \n",
              "347827    345486         18307        299766        161549         81759   \n",
              "\n",
              "        연령대_50_매출_건수  연령대_60_이상_매출_건수  점포수  \n",
              "35271          51628            15897  249  \n",
              "80710          50062            14785  259  \n",
              "125877         59054            16747  257  \n",
              "170637         50036            14376  260  \n",
              "215178         56039            16915  258  \n",
              "259613         58211            19583  270  \n",
              "303669         66264            19596  256  \n",
              "347827         56474            17984  253  \n",
              "\n",
              "[8 rows x 80 columns]"
            ],
            "text/html": [
              "\n",
              "  <div id=\"df-446ae73e-1c73-4f3b-95b6-96a7c4cb253e\">\n",
              "    <div class=\"colab-df-container\">\n",
              "      <div>\n",
              "<style scoped>\n",
              "    .dataframe tbody tr th:only-of-type {\n",
              "        vertical-align: middle;\n",
              "    }\n",
              "\n",
              "    .dataframe tbody tr th {\n",
              "        vertical-align: top;\n",
              "    }\n",
              "\n",
              "    .dataframe thead th {\n",
              "        text-align: right;\n",
              "    }\n",
              "</style>\n",
              "<table border=\"1\" class=\"dataframe\">\n",
              "  <thead>\n",
              "    <tr style=\"text-align: right;\">\n",
              "      <th></th>\n",
              "      <th>기준_년_코드</th>\n",
              "      <th>기준_분기_코드</th>\n",
              "      <th>상권_구분_코드</th>\n",
              "      <th>상권_구분_코드_명</th>\n",
              "      <th>상권_코드</th>\n",
              "      <th>상권_코드_명</th>\n",
              "      <th>서비스_업종_코드</th>\n",
              "      <th>서비스_업종_코드_명</th>\n",
              "      <th>분기당_매출_금액</th>\n",
              "      <th>분기당_매출_건수</th>\n",
              "      <th>...</th>\n",
              "      <th>시간대_건수~24_매출_건수</th>\n",
              "      <th>남성_매출_건수</th>\n",
              "      <th>여성_매출_건수</th>\n",
              "      <th>연령대_10_매출_건수</th>\n",
              "      <th>연령대_20_매출_건수</th>\n",
              "      <th>연령대_30_매출_건수</th>\n",
              "      <th>연령대_40_매출_건수</th>\n",
              "      <th>연령대_50_매출_건수</th>\n",
              "      <th>연령대_60_이상_매출_건수</th>\n",
              "      <th>점포수</th>\n",
              "    </tr>\n",
              "  </thead>\n",
              "  <tbody>\n",
              "    <tr>\n",
              "      <th>35271</th>\n",
              "      <td>2017</td>\n",
              "      <td>1</td>\n",
              "      <td>D</td>\n",
              "      <td>발달상권</td>\n",
              "      <td>2120189</td>\n",
              "      <td>강남역</td>\n",
              "      <td>CS100004</td>\n",
              "      <td>양식음식점</td>\n",
              "      <td>19914915375</td>\n",
              "      <td>741101</td>\n",
              "      <td>...</td>\n",
              "      <td>85236</td>\n",
              "      <td>290733</td>\n",
              "      <td>396638</td>\n",
              "      <td>19539</td>\n",
              "      <td>359552</td>\n",
              "      <td>166686</td>\n",
              "      <td>74086</td>\n",
              "      <td>51628</td>\n",
              "      <td>15897</td>\n",
              "      <td>249</td>\n",
              "    </tr>\n",
              "    <tr>\n",
              "      <th>80710</th>\n",
              "      <td>2017</td>\n",
              "      <td>2</td>\n",
              "      <td>D</td>\n",
              "      <td>발달상권</td>\n",
              "      <td>2120189</td>\n",
              "      <td>강남역</td>\n",
              "      <td>CS100004</td>\n",
              "      <td>양식음식점</td>\n",
              "      <td>18430223064</td>\n",
              "      <td>717509</td>\n",
              "      <td>...</td>\n",
              "      <td>77291</td>\n",
              "      <td>286419</td>\n",
              "      <td>372118</td>\n",
              "      <td>18908</td>\n",
              "      <td>328414</td>\n",
              "      <td>169010</td>\n",
              "      <td>77356</td>\n",
              "      <td>50062</td>\n",
              "      <td>14785</td>\n",
              "      <td>259</td>\n",
              "    </tr>\n",
              "    <tr>\n",
              "      <th>125877</th>\n",
              "      <td>2017</td>\n",
              "      <td>3</td>\n",
              "      <td>D</td>\n",
              "      <td>발달상권</td>\n",
              "      <td>2120189</td>\n",
              "      <td>강남역</td>\n",
              "      <td>CS100004</td>\n",
              "      <td>양식음식점</td>\n",
              "      <td>20035229500</td>\n",
              "      <td>791959</td>\n",
              "      <td>...</td>\n",
              "      <td>83339</td>\n",
              "      <td>316475</td>\n",
              "      <td>415853</td>\n",
              "      <td>26436</td>\n",
              "      <td>376594</td>\n",
              "      <td>167135</td>\n",
              "      <td>86359</td>\n",
              "      <td>59054</td>\n",
              "      <td>16747</td>\n",
              "      <td>257</td>\n",
              "    </tr>\n",
              "    <tr>\n",
              "      <th>170637</th>\n",
              "      <td>2017</td>\n",
              "      <td>4</td>\n",
              "      <td>D</td>\n",
              "      <td>발달상권</td>\n",
              "      <td>2120189</td>\n",
              "      <td>강남역</td>\n",
              "      <td>CS100004</td>\n",
              "      <td>양식음식점</td>\n",
              "      <td>18309522731</td>\n",
              "      <td>680562</td>\n",
              "      <td>...</td>\n",
              "      <td>74737</td>\n",
              "      <td>274683</td>\n",
              "      <td>346802</td>\n",
              "      <td>23587</td>\n",
              "      <td>312251</td>\n",
              "      <td>145758</td>\n",
              "      <td>75481</td>\n",
              "      <td>50036</td>\n",
              "      <td>14376</td>\n",
              "      <td>260</td>\n",
              "    </tr>\n",
              "    <tr>\n",
              "      <th>215178</th>\n",
              "      <td>2018</td>\n",
              "      <td>1</td>\n",
              "      <td>D</td>\n",
              "      <td>발달상권</td>\n",
              "      <td>2120189</td>\n",
              "      <td>강남역</td>\n",
              "      <td>CS100004</td>\n",
              "      <td>양식음식점</td>\n",
              "      <td>19256125907</td>\n",
              "      <td>738221</td>\n",
              "      <td>...</td>\n",
              "      <td>76480</td>\n",
              "      <td>292354</td>\n",
              "      <td>383012</td>\n",
              "      <td>20709</td>\n",
              "      <td>342693</td>\n",
              "      <td>161072</td>\n",
              "      <td>77950</td>\n",
              "      <td>56039</td>\n",
              "      <td>16915</td>\n",
              "      <td>258</td>\n",
              "    </tr>\n",
              "    <tr>\n",
              "      <th>259613</th>\n",
              "      <td>2018</td>\n",
              "      <td>2</td>\n",
              "      <td>D</td>\n",
              "      <td>발달상권</td>\n",
              "      <td>2120189</td>\n",
              "      <td>강남역</td>\n",
              "      <td>CS100004</td>\n",
              "      <td>양식음식점</td>\n",
              "      <td>18218498215</td>\n",
              "      <td>745771</td>\n",
              "      <td>...</td>\n",
              "      <td>72395</td>\n",
              "      <td>296186</td>\n",
              "      <td>377000</td>\n",
              "      <td>17580</td>\n",
              "      <td>320198</td>\n",
              "      <td>174443</td>\n",
              "      <td>83174</td>\n",
              "      <td>58211</td>\n",
              "      <td>19583</td>\n",
              "      <td>270</td>\n",
              "    </tr>\n",
              "    <tr>\n",
              "      <th>303669</th>\n",
              "      <td>2018</td>\n",
              "      <td>3</td>\n",
              "      <td>D</td>\n",
              "      <td>발달상권</td>\n",
              "      <td>2120189</td>\n",
              "      <td>강남역</td>\n",
              "      <td>CS100004</td>\n",
              "      <td>양식음식점</td>\n",
              "      <td>18591698311</td>\n",
              "      <td>788838</td>\n",
              "      <td>...</td>\n",
              "      <td>71528</td>\n",
              "      <td>321901</td>\n",
              "      <td>393284</td>\n",
              "      <td>22911</td>\n",
              "      <td>349745</td>\n",
              "      <td>166193</td>\n",
              "      <td>90478</td>\n",
              "      <td>66264</td>\n",
              "      <td>19596</td>\n",
              "      <td>256</td>\n",
              "    </tr>\n",
              "    <tr>\n",
              "      <th>347827</th>\n",
              "      <td>2018</td>\n",
              "      <td>4</td>\n",
              "      <td>D</td>\n",
              "      <td>발달상권</td>\n",
              "      <td>2120189</td>\n",
              "      <td>강남역</td>\n",
              "      <td>CS100004</td>\n",
              "      <td>양식음식점</td>\n",
              "      <td>18063215572</td>\n",
              "      <td>712498</td>\n",
              "      <td>...</td>\n",
              "      <td>66003</td>\n",
              "      <td>290333</td>\n",
              "      <td>345486</td>\n",
              "      <td>18307</td>\n",
              "      <td>299766</td>\n",
              "      <td>161549</td>\n",
              "      <td>81759</td>\n",
              "      <td>56474</td>\n",
              "      <td>17984</td>\n",
              "      <td>253</td>\n",
              "    </tr>\n",
              "  </tbody>\n",
              "</table>\n",
              "<p>8 rows × 80 columns</p>\n",
              "</div>\n",
              "      <button class=\"colab-df-convert\" onclick=\"convertToInteractive('df-446ae73e-1c73-4f3b-95b6-96a7c4cb253e')\"\n",
              "              title=\"Convert this dataframe to an interactive table.\"\n",
              "              style=\"display:none;\">\n",
              "        \n",
              "  <svg xmlns=\"http://www.w3.org/2000/svg\" height=\"24px\"viewBox=\"0 0 24 24\"\n",
              "       width=\"24px\">\n",
              "    <path d=\"M0 0h24v24H0V0z\" fill=\"none\"/>\n",
              "    <path d=\"M18.56 5.44l.94 2.06.94-2.06 2.06-.94-2.06-.94-.94-2.06-.94 2.06-2.06.94zm-11 1L8.5 8.5l.94-2.06 2.06-.94-2.06-.94L8.5 2.5l-.94 2.06-2.06.94zm10 10l.94 2.06.94-2.06 2.06-.94-2.06-.94-.94-2.06-.94 2.06-2.06.94z\"/><path d=\"M17.41 7.96l-1.37-1.37c-.4-.4-.92-.59-1.43-.59-.52 0-1.04.2-1.43.59L10.3 9.45l-7.72 7.72c-.78.78-.78 2.05 0 2.83L4 21.41c.39.39.9.59 1.41.59.51 0 1.02-.2 1.41-.59l7.78-7.78 2.81-2.81c.8-.78.8-2.07 0-2.86zM5.41 20L4 18.59l7.72-7.72 1.47 1.35L5.41 20z\"/>\n",
              "  </svg>\n",
              "      </button>\n",
              "      \n",
              "  <style>\n",
              "    .colab-df-container {\n",
              "      display:flex;\n",
              "      flex-wrap:wrap;\n",
              "      gap: 12px;\n",
              "    }\n",
              "\n",
              "    .colab-df-convert {\n",
              "      background-color: #E8F0FE;\n",
              "      border: none;\n",
              "      border-radius: 50%;\n",
              "      cursor: pointer;\n",
              "      display: none;\n",
              "      fill: #1967D2;\n",
              "      height: 32px;\n",
              "      padding: 0 0 0 0;\n",
              "      width: 32px;\n",
              "    }\n",
              "\n",
              "    .colab-df-convert:hover {\n",
              "      background-color: #E2EBFA;\n",
              "      box-shadow: 0px 1px 2px rgba(60, 64, 67, 0.3), 0px 1px 3px 1px rgba(60, 64, 67, 0.15);\n",
              "      fill: #174EA6;\n",
              "    }\n",
              "\n",
              "    [theme=dark] .colab-df-convert {\n",
              "      background-color: #3B4455;\n",
              "      fill: #D2E3FC;\n",
              "    }\n",
              "\n",
              "    [theme=dark] .colab-df-convert:hover {\n",
              "      background-color: #434B5C;\n",
              "      box-shadow: 0px 1px 3px 1px rgba(0, 0, 0, 0.15);\n",
              "      filter: drop-shadow(0px 1px 2px rgba(0, 0, 0, 0.3));\n",
              "      fill: #FFFFFF;\n",
              "    }\n",
              "  </style>\n",
              "\n",
              "      <script>\n",
              "        const buttonEl =\n",
              "          document.querySelector('#df-446ae73e-1c73-4f3b-95b6-96a7c4cb253e button.colab-df-convert');\n",
              "        buttonEl.style.display =\n",
              "          google.colab.kernel.accessAllowed ? 'block' : 'none';\n",
              "\n",
              "        async function convertToInteractive(key) {\n",
              "          const element = document.querySelector('#df-446ae73e-1c73-4f3b-95b6-96a7c4cb253e');\n",
              "          const dataTable =\n",
              "            await google.colab.kernel.invokeFunction('convertToInteractive',\n",
              "                                                     [key], {});\n",
              "          if (!dataTable) return;\n",
              "\n",
              "          const docLinkHtml = 'Like what you see? Visit the ' +\n",
              "            '<a target=\"_blank\" href=https://colab.research.google.com/notebooks/data_table.ipynb>data table notebook</a>'\n",
              "            + ' to learn more about interactive tables.';\n",
              "          element.innerHTML = '';\n",
              "          dataTable['output_type'] = 'display_data';\n",
              "          await google.colab.output.renderOutput(dataTable, element);\n",
              "          const docLink = document.createElement('div');\n",
              "          docLink.innerHTML = docLinkHtml;\n",
              "          element.appendChild(docLink);\n",
              "        }\n",
              "      </script>\n",
              "    </div>\n",
              "  </div>\n",
              "  "
            ]
          },
          "metadata": {},
          "execution_count": 56
        }
      ]
    },
    {
      "cell_type": "markdown",
      "source": [
        "> 이 때 `분기당 매출 금액`의 평균을 통해 각 상권의 양식음식점의 매출액 평균을 구할 수 있습니다.\n",
        ">\n",
        "> 이를 딕셔너리 자료형에 저장하고 Series로 만들어 조회해보겠습니다."
      ],
      "metadata": {
        "id": "rB41fqRDNCZc"
      }
    },
    {
      "cell_type": "code",
      "source": [
        "western_food_sales_mean_by_area = {}\n",
        "for area in best_2030_population_areas:\n",
        "    western_food_sales_mean_by_area[area] = sales_df[(sales_df['상권_코드_명']==area)&(sales_df['서비스_업종_코드_명']=='양식음식점')]['분기당_매출_금액'].mean()"
      ],
      "metadata": {
        "id": "nf7jTOmnFoh3"
      },
      "execution_count": 57,
      "outputs": []
    },
    {
      "cell_type": "code",
      "source": [
        "best_2030_population_area_mean_sales = pd.Series(western_food_sales_mean_by_area).sort_values(ascending=True)\n",
        "best_2030_population_area_mean_sales"
      ],
      "metadata": {
        "colab": {
          "base_uri": "https://localhost:8080/"
        },
        "id": "arWAq7JyNgF3",
        "outputId": "4f28594f-dc1e-4734-dda4-05a400a77113"
      },
      "execution_count": 60,
      "outputs": [
        {
          "output_type": "execute_result",
          "data": {
            "text/plain": [
              "신림역 5번(신림동주민센터, 신림동별빛거리)    1.662894e+07\n",
              "구립대학경로당(관악산샘말공원)            4.143214e+08\n",
              "선릉역                         1.472625e+09\n",
              "신촌역(신촌역, 신촌로터리)             3.789476e+09\n",
              "역삼역                         5.201285e+09\n",
              "명동 남대문 북창동 다동 무교동 관광특구      7.756145e+09\n",
              "홍대입구역(홍대)                   9.522567e+09\n",
              "강남역                         1.344175e+10\n",
              "dtype: float64"
            ]
          },
          "metadata": {},
          "execution_count": 60
        }
      ]
    },
    {
      "cell_type": "markdown",
      "source": [
        "> `e+10`은 `10,000,000,000` 즉, 100억을 의미합니다.\n",
        ">\n",
        "> 따라서 강남역의 양식점의 분기당 매출액의 평균은 134억원이라고 볼 수 있습니다.\n",
        ">\n",
        "> 위 결과에 따르면 `강남역`, `홍대입구역`, `명동`, `역삼역`, `선릉역` 순으로 매출액이 높은 것을 알 수 있습니다.\n",
        ">\n",
        "> 단순 숫자만 보면 어느정도 차이인지 구분하기 힘들기 때문에 막대 그래프로 시각화하면 아래와 같습니다."
      ],
      "metadata": {
        "id": "bDB43NNiSJvN"
      }
    },
    {
      "cell_type": "code",
      "source": [
        "plt.figure(figsize=(12, 10))\n",
        "plt.barh(best_2030_population_area_mean_sales.index, best_2030_population_area_mean_sales.values, color=sns.color_palette('inferno'))\n",
        "plt.xticks(best_2030_population_area_mean_sales.values, [f'{int(x/100000000)}억원' for x in best_2030_population_area_mean_sales.values], rotation=45, size=16)\n",
        "plt.yticks(size=16)\n",
        "plt.title('2030 연령대 생활인구 수 상위 상권의 양식음식점 분기별 매출 평균 금액', size=18)\n",
        "plt.grid(axis='x')\n",
        "plt.show()"
      ],
      "metadata": {
        "colab": {
          "base_uri": "https://localhost:8080/",
          "height": 652
        },
        "id": "AO3hSr8HTXPj",
        "outputId": "a2246bb7-619c-478a-b006-3d9d0642e357"
      },
      "execution_count": 65,
      "outputs": [
        {
          "output_type": "display_data",
          "data": {
            "text/plain": [
              "<Figure size 864x720 with 1 Axes>"
            ],
            "image/png": "[encoded data removed]"
          },
          "metadata": {}
        }
      ]
    },
    {
      "cell_type": "markdown",
      "source": [
        "> 이처럼 `강남역` 상권이 압도적으로 많은 것을 확인할 수 있습니다.\n",
        ">\n",
        "> 하지만, 매출이 많다고 단순히 성공할 가능성이 가장 높은 상권이라고 하기 힘듭니다.\n",
        ">\n",
        "> 분석 과정에서 제외했던 `까치산 3번` 상권의 경우 양식음식점이 집계되지 않았으므로 매출액은 0이지만 평균 30대 생활인구 수는 상위 4위에 해당하는 가능성있는 상권이기 때문입니다.\n",
        ">\n",
        "> 이 때 중요한 차이점은 `상권 내 동일 업종의 개수` 즉, 경쟁 상대가 얼마나 많은가입니다.\n",
        ">\n",
        "> 다음으로는 이에 대해 분석해보고 평균 매출액에서 총 개수를 나눠주어 각 양식음식점의 기대 매출 평균액을 구해보도록 하겠습니다.\n",
        ">\n",
        ">> 위와 같은 계산으로 `까치산 3번` 상권은 0/0이므로 그 가능성이 쪽박 아니면 대박이 될 수 있을 것입니다."
      ],
      "metadata": {
        "id": "MNJMtajiTpDQ"
      }
    },
    {
      "cell_type": "code",
      "source": [
        ""
      ],
      "metadata": {
        "id": "10OFR2-9XUUc"
      },
      "execution_count": null,
      "outputs": []
    }
  ]
}